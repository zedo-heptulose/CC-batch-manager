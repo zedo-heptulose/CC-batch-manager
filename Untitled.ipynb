{
 "cells": [
  {
   "cell_type": "code",
   "execution_count": 1,
   "id": "085b29a6-17b1-4415-a362-5627278e6ae1",
   "metadata": {},
   "outputs": [
    {
     "name": "stdout",
     "output_type": "stream",
     "text": [
      "Requirement already satisfied: cclib in /gpfs/home/gdb20/jupyterenv/lib/python3.11/site-packages (1.8.1)\n",
      "Requirement already satisfied: numpy in /gpfs/home/gdb20/jupyterenv/lib/python3.11/site-packages (from cclib) (2.1.0)\n",
      "Requirement already satisfied: packaging>=19.0 in /gpfs/home/gdb20/jupyterenv/lib/python3.11/site-packages (from cclib) (24.1)\n",
      "Requirement already satisfied: periodictable in /gpfs/home/gdb20/jupyterenv/lib/python3.11/site-packages (from cclib) (1.7.1)\n",
      "Requirement already satisfied: scipy>=1.2.0 in /gpfs/home/gdb20/jupyterenv/lib/python3.11/site-packages (from cclib) (1.14.1)\n",
      "Requirement already satisfied: pyparsing in /gpfs/home/gdb20/jupyterenv/lib/python3.11/site-packages (from periodictable->cclib) (3.1.4)\n",
      "Note: you may need to restart the kernel to use updated packages.\n"
     ]
    }
   ],
   "source": [
    "pip install --upgrade cclib"
   ]
  },
  {
   "cell_type": "code",
   "execution_count": null,
   "id": "8966a4d3-6438-4101-8eb7-667ac88c716a",
   "metadata": {},
   "outputs": [],
   "source": []
  }
 ],
 "metadata": {
  "kernelspec": {
   "display_name": "Python 3 (ipykernel)",
   "language": "python",
   "name": "python3"
  },
  "language_info": {
   "codemirror_mode": {
    "name": "ipython",
    "version": 3
   },
   "file_extension": ".py",
   "mimetype": "text/x-python",
   "name": "python",
   "nbconvert_exporter": "python",
   "pygments_lexer": "ipython3",
   "version": "3.11.5"
  }
 },
 "nbformat": 4,
 "nbformat_minor": 5
}
