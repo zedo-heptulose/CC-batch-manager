{
 "cells": [
  {
   "cell_type": "code",
   "execution_count": 4,
   "id": "f43081de-5237-4e08-acb0-14d2c189d238",
   "metadata": {},
   "outputs": [],
   "source": [
    "import job_file_editor as jfe"
   ]
  },
  {
   "cell_type": "code",
   "execution_count": 5,
   "id": "8c43f103-6c4b-4bb3-b44a-52b9cc338f11",
   "metadata": {},
   "outputs": [
    {
     "name": "stdout",
     "output_type": "stream",
     "text": [
      "[Errno 2] No such file or directory: '../../mike'\n",
      "/gpfs/home/gdb20/mike\n"
     ]
    }
   ],
   "source": [
    "cd ../../mike"
   ]
  },
  {
   "cell_type": "code",
   "execution_count": 8,
   "id": "e1343669-0a48-4e50-874b-8daba690a41f",
   "metadata": {},
   "outputs": [
    {
     "ename": "FileNotFoundError",
     "evalue": "[Errno 2] No such file or directory: 'omy_gauche/omy_pistack_singlet_uks_cam_b3lyp_631gdp_brsym/omy_pistack_singlet_uks_cam_b3lyp_631gdp_brsym.out'",
     "output_type": "error",
     "traceback": [
      "\u001b[0;31m---------------------------------------------------------------------------\u001b[0m",
      "\u001b[0;31mFileNotFoundError\u001b[0m                         Traceback (most recent call last)",
      "Cell \u001b[0;32mIn[8], line 1\u001b[0m\n\u001b[0;32m----> 1\u001b[0m \u001b[43mjfe\u001b[49m\u001b[38;5;241;43m.\u001b[39;49m\u001b[43mtddft_from_finished_jobs\u001b[49m\u001b[43m(\u001b[49m\u001b[38;5;124;43m'\u001b[39;49m\u001b[38;5;124;43momy_gauche\u001b[39;49m\u001b[38;5;124;43m'\u001b[39;49m\u001b[43m,\u001b[49m\u001b[38;5;124;43m'\u001b[39;49m\u001b[38;5;124;43mtddft\u001b[39;49m\u001b[38;5;124;43m'\u001b[39;49m\u001b[43m,\u001b[49m\u001b[38;5;124;43m'\u001b[39;49m\u001b[38;5;124;43mpistack.*b3lyp\u001b[39;49m\u001b[38;5;124;43m'\u001b[39;49m\u001b[43m)\u001b[49m\n",
      "File \u001b[0;32m~/code/ORCA-batch-manager/job_file_editor.py:274\u001b[0m, in \u001b[0;36mtddft_from_finished_jobs\u001b[0;34m(old_dir, new_dir, search)\u001b[0m\n\u001b[1;32m    272\u001b[0m job_dir_list \u001b[38;5;241m=\u001b[39m os\u001b[38;5;241m.\u001b[39mlistdir(old_dir)\n\u001b[1;32m    273\u001b[0m \u001b[38;5;28;01mfor\u001b[39;00m jobname \u001b[38;5;129;01min\u001b[39;00m (dn \u001b[38;5;28;01mfor\u001b[39;00m dn \u001b[38;5;129;01min\u001b[39;00m job_dir_list \u001b[38;5;28;01mif\u001b[39;00m re\u001b[38;5;241m.\u001b[39msearch(search,dn)):\n\u001b[0;32m--> 274\u001b[0m     \u001b[43mcopy_change_name\u001b[49m\u001b[43m(\u001b[49m\u001b[43mjobname\u001b[49m\u001b[43m,\u001b[49m\u001b[43m[\u001b[49m\u001b[43m(\u001b[49m\u001b[38;5;124;43m'\u001b[39;49m\u001b[38;5;124;43m--append\u001b[39;49m\u001b[38;5;124;43m'\u001b[39;49m\u001b[43m,\u001b[49m\u001b[38;5;124;43m'\u001b[39;49m\u001b[38;5;124;43m_tddft\u001b[39;49m\u001b[38;5;124;43m'\u001b[39;49m\u001b[43m)\u001b[49m\u001b[43m]\u001b[49m\u001b[43m,\u001b[49m\u001b[43mold_dir\u001b[49m\u001b[43m,\u001b[49m\u001b[43mnew_dir\u001b[49m\u001b[43m)\u001b[49m\n\u001b[1;32m    276\u001b[0m new_job_dir_list \u001b[38;5;241m=\u001b[39m os\u001b[38;5;241m.\u001b[39mlistdir(new_dir)\n\u001b[1;32m    277\u001b[0m \u001b[38;5;28;01mfor\u001b[39;00m jobname \u001b[38;5;129;01min\u001b[39;00m(dn \u001b[38;5;28;01mfor\u001b[39;00m dn \u001b[38;5;129;01min\u001b[39;00m new_job_dir_list \u001b[38;5;28;01mif\u001b[39;00m re\u001b[38;5;241m.\u001b[39msearch(search,dn)):\n",
      "File \u001b[0;32m~/code/ORCA-batch-manager/job_file_editor.py:200\u001b[0m, in \u001b[0;36mcopy_change_name\u001b[0;34m(jobname, rules, existing_dir, destination_dir, change_coords)\u001b[0m\n\u001b[1;32m    197\u001b[0m             new_file\u001b[38;5;241m.\u001b[39mwritelines(newlines)\n\u001b[1;32m    199\u001b[0m \u001b[38;5;28;01mif\u001b[39;00m change_coords:\n\u001b[0;32m--> 200\u001b[0m     coords \u001b[38;5;241m=\u001b[39m \u001b[43mget_orca_coordinates\u001b[49m\u001b[43m(\u001b[49m\u001b[38;5;124;43mf\u001b[39;49m\u001b[38;5;124;43m'\u001b[39;49m\u001b[38;5;132;43;01m{\u001b[39;49;00m\u001b[43mexistpath\u001b[49m\u001b[38;5;132;43;01m}\u001b[39;49;00m\u001b[38;5;124;43m.out\u001b[39;49m\u001b[38;5;124;43m'\u001b[39;49m\u001b[43m)\u001b[49m\n\u001b[1;32m    201\u001b[0m     replace_geometry(\u001b[38;5;124mf\u001b[39m\u001b[38;5;124m'\u001b[39m\u001b[38;5;132;01m{\u001b[39;00mnewpath\u001b[38;5;132;01m}\u001b[39;00m\u001b[38;5;124m.inp\u001b[39m\u001b[38;5;124m'\u001b[39m,coords)\n",
      "File \u001b[0;32m~/code/ORCA-batch-manager/job_file_editor.py:11\u001b[0m, in \u001b[0;36mget_orca_coordinates\u001b[0;34m(filename)\u001b[0m\n\u001b[1;32m      7\u001b[0m \u001b[38;5;250m\u001b[39m\u001b[38;5;124;03m'''\u001b[39;00m\n\u001b[1;32m      8\u001b[0m \u001b[38;5;124;03mThis function gets the coordinates from a file\u001b[39;00m\n\u001b[1;32m      9\u001b[0m \u001b[38;5;124;03m'''\u001b[39;00m\n\u001b[1;32m     10\u001b[0m \u001b[38;5;66;03m# Open the file\u001b[39;00m\n\u001b[0;32m---> 11\u001b[0m \u001b[38;5;28;01mwith\u001b[39;00m \u001b[38;5;28mopen\u001b[39m(filename, \u001b[38;5;124m'\u001b[39m\u001b[38;5;124mr\u001b[39m\u001b[38;5;124m'\u001b[39m) \u001b[38;5;28;01mas\u001b[39;00m f:\n\u001b[1;32m     12\u001b[0m     \u001b[38;5;66;03m# Read the lines of the file\u001b[39;00m\n\u001b[1;32m     13\u001b[0m     lines \u001b[38;5;241m=\u001b[39m f\u001b[38;5;241m.\u001b[39mreadlines()  \n\u001b[1;32m     14\u001b[0m     \u001b[38;5;66;03m#find the lines to read between\u001b[39;00m\n",
      "\u001b[0;31mFileNotFoundError\u001b[0m: [Errno 2] No such file or directory: 'omy_gauche/omy_pistack_singlet_uks_cam_b3lyp_631gdp_brsym/omy_pistack_singlet_uks_cam_b3lyp_631gdp_brsym.out'"
     ]
    }
   ],
   "source": [
    "jfe.tddft_from_finished_jobs('omy_gauche','tddft','pistack.*b3lyp')"
   ]
  },
  {
   "cell_type": "code",
   "execution_count": 4,
   "id": "7684e32f-63b3-42a7-8036-689f149475d7",
   "metadata": {},
   "outputs": [],
   "source": []
  },
  {
   "cell_type": "code",
   "execution_count": 5,
   "id": "5ce12288-97a4-4ecc-9a25-ed9c61b2b0a2",
   "metadata": {},
   "outputs": [],
   "source": []
  },
  {
   "cell_type": "code",
   "execution_count": null,
   "id": "9a1802ad-2c2f-4faa-b44e-6075221e888f",
   "metadata": {},
   "outputs": [],
   "source": []
  }
 ],
 "metadata": {
  "kernelspec": {
   "display_name": "Python 3 (ipykernel)",
   "language": "python",
   "name": "python3"
  },
  "language_info": {
   "codemirror_mode": {
    "name": "ipython",
    "version": 3
   },
   "file_extension": ".py",
   "mimetype": "text/x-python",
   "name": "python",
   "nbconvert_exporter": "python",
   "pygments_lexer": "ipython3",
   "version": "3.11.5"
  }
 },
 "nbformat": 4,
 "nbformat_minor": 5
}
