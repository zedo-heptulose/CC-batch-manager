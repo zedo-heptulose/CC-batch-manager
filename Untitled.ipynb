{
 "cells": [
  {
   "cell_type": "code",
   "execution_count": 1,
   "id": "f43081de-5237-4e08-acb0-14d2c189d238",
   "metadata": {},
   "outputs": [],
   "source": [
    "import job_file_editor as jfe"
   ]
  },
  {
   "cell_type": "code",
   "execution_count": 2,
   "id": "8c43f103-6c4b-4bb3-b44a-52b9cc338f11",
   "metadata": {},
   "outputs": [
    {
     "name": "stdout",
     "output_type": "stream",
     "text": [
      "/gpfs/home/gdb20/mike/results\n"
     ]
    }
   ],
   "source": [
    "cd ../../mike/results"
   ]
  },
  {
   "cell_type": "code",
   "execution_count": 4,
   "id": "e1343669-0a48-4e50-874b-8daba690a41f",
   "metadata": {},
   "outputs": [
    {
     "ename": "FileNotFoundError",
     "evalue": "[Errno 2] No such file or directory: './omy_singlet_uks_cam_b3lyp_631gdp_brsym_tddft/omy_singlet_uks_cam_b3lyp_631gdp_brsym_tddft.sh'",
     "output_type": "error",
     "traceback": [
      "\u001b[0;31m---------------------------------------------------------------------------\u001b[0m",
      "\u001b[0;31mFileNotFoundError\u001b[0m                         Traceback (most recent call last)",
      "Cell \u001b[0;32mIn[4], line 1\u001b[0m\n\u001b[0;32m----> 1\u001b[0m \u001b[43mjfe\u001b[49m\u001b[38;5;241;43m.\u001b[39;49m\u001b[43mcopy_change_name\u001b[49m\u001b[43m(\u001b[49m\u001b[38;5;124;43m'\u001b[39;49m\u001b[38;5;124;43momy_singlet_uks_cam_b3lyp_631gdp_brsym\u001b[39;49m\u001b[38;5;124;43m'\u001b[39;49m\u001b[43m,\u001b[49m\u001b[43m[\u001b[49m\u001b[43m(\u001b[49m\u001b[38;5;124;43mr\u001b[39;49m\u001b[38;5;124;43m'\u001b[39;49m\u001b[38;5;124;43m--append\u001b[39;49m\u001b[38;5;124;43m'\u001b[39;49m\u001b[43m,\u001b[49m\u001b[38;5;124;43m'\u001b[39;49m\u001b[38;5;124;43m_tddft\u001b[39;49m\u001b[38;5;124;43m'\u001b[39;49m\u001b[43m)\u001b[49m\u001b[43m]\u001b[49m\u001b[43m)\u001b[49m\n",
      "File \u001b[0;32m~/code/ORCA-batch-manager/job_file_editor.py:191\u001b[0m, in \u001b[0;36mcopy_change_name\u001b[0;34m(jobname, rules, existing_dir, destination_dir)\u001b[0m\n\u001b[1;32m    188\u001b[0m     new_line \u001b[38;5;241m=\u001b[39m re\u001b[38;5;241m.\u001b[39msub(jobname,new_jobname,line)\n\u001b[1;32m    189\u001b[0m     newlines\u001b[38;5;241m.\u001b[39mappend(new_line)\n\u001b[0;32m--> 191\u001b[0m \u001b[38;5;28;01mwith\u001b[39;00m \u001b[38;5;28mopen\u001b[39m(newpath \u001b[38;5;241m+\u001b[39m extension,\u001b[38;5;124m'\u001b[39m\u001b[38;5;124mw\u001b[39m\u001b[38;5;124m'\u001b[39m) \u001b[38;5;28;01mas\u001b[39;00m new_file:\n\u001b[1;32m    192\u001b[0m     new_file\u001b[38;5;241m.\u001b[39mwritelines(newlines)\n",
      "\u001b[0;31mFileNotFoundError\u001b[0m: [Errno 2] No such file or directory: './omy_singlet_uks_cam_b3lyp_631gdp_brsym_tddft/omy_singlet_uks_cam_b3lyp_631gdp_brsym_tddft.sh'"
     ]
    }
   ],
   "source": [
    "jfe.copy_change_name('omy_singlet_uks_cam_b3lyp_631gdp_brsym',[(r'--append','_tddft')])"
   ]
  },
  {
   "cell_type": "code",
   "execution_count": null,
   "id": "7684e32f-63b3-42a7-8036-689f149475d7",
   "metadata": {},
   "outputs": [],
   "source": []
  }
 ],
 "metadata": {
  "kernelspec": {
   "display_name": "Python 3 (ipykernel)",
   "language": "python",
   "name": "python3"
  },
  "language_info": {
   "codemirror_mode": {
    "name": "ipython",
    "version": 3
   },
   "file_extension": ".py",
   "mimetype": "text/x-python",
   "name": "python",
   "nbconvert_exporter": "python",
   "pygments_lexer": "ipython3",
   "version": "3.11.5"
  }
 },
 "nbformat": 4,
 "nbformat_minor": 5
}
