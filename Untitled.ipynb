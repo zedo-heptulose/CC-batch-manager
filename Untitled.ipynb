{
 "cells": [
  {
   "cell_type": "code",
   "execution_count": 1,
   "id": "f43081de-5237-4e08-acb0-14d2c189d238",
   "metadata": {},
   "outputs": [],
   "source": [
    "import job_file_editor as jfe"
   ]
  },
  {
   "cell_type": "code",
   "execution_count": 2,
   "id": "8c43f103-6c4b-4bb3-b44a-52b9cc338f11",
   "metadata": {},
   "outputs": [
    {
     "name": "stdout",
     "output_type": "stream",
     "text": [
      "/gpfs/home/gdb20/mike/results\n"
     ]
    }
   ],
   "source": [
    "cd ../../mike/results"
   ]
  },
  {
   "cell_type": "code",
   "execution_count": 3,
   "id": "e1343669-0a48-4e50-874b-8daba690a41f",
   "metadata": {},
   "outputs": [],
   "source": [
    "jfe.copy_change_name('omy_singlet_uks_cam_b3lyp_631gdp_brsym',[(r'--append','_tddft')])"
   ]
  },
  {
   "cell_type": "code",
   "execution_count": 4,
   "id": "7684e32f-63b3-42a7-8036-689f149475d7",
   "metadata": {},
   "outputs": [],
   "source": [
    "jfe.add_tddft_block('omy_singlet_uks_cam_b3lyp_631gdp_brsym_tddft/omy_singlet_uks_cam_b3lyp_631gdp_brsym_tddft.inp')"
   ]
  },
  {
   "cell_type": "code",
   "execution_count": 5,
   "id": "5ce12288-97a4-4ecc-9a25-ed9c61b2b0a2",
   "metadata": {},
   "outputs": [],
   "source": [
    "jfe.strip_keywords('omy_singlet_uks_cam_b3lyp_631gdp_brsym_tddft/omy_singlet_uks_cam_b3lyp_631gdp_brsym_tddft.inp',r'\\bOPT\\b',r'\\bFREQ\\b',r'\\bUNO\\b')"
   ]
  },
  {
   "cell_type": "code",
   "execution_count": null,
   "id": "9a1802ad-2c2f-4faa-b44e-6075221e888f",
   "metadata": {},
   "outputs": [],
   "source": []
  }
 ],
 "metadata": {
  "kernelspec": {
   "display_name": "Python 3 (ipykernel)",
   "language": "python",
   "name": "python3"
  },
  "language_info": {
   "codemirror_mode": {
    "name": "ipython",
    "version": 3
   },
   "file_extension": ".py",
   "mimetype": "text/x-python",
   "name": "python",
   "nbconvert_exporter": "python",
   "pygments_lexer": "ipython3",
   "version": "3.11.5"
  }
 },
 "nbformat": 4,
 "nbformat_minor": 5
}
