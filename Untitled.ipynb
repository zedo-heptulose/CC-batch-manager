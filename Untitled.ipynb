{
 "cells": [
  {
   "cell_type": "code",
   "execution_count": 1,
   "id": "dd8d1066-d7d7-471d-a337-8b96c5392579",
   "metadata": {},
   "outputs": [],
   "source": [
    "import job_file_editor as jf "
   ]
  },
  {
   "cell_type": "code",
   "execution_count": 2,
   "id": "02ffa7b7-e70d-4801-af8a-805869cd6414",
   "metadata": {},
   "outputs": [],
   "source": [
    "coords = jf.get_orca_coordinates('./mono_alkyne_singlet_uks_cam_b3lyp_631gdp.out')"
   ]
  },
  {
   "cell_type": "code",
   "execution_count": 3,
   "id": "ea21aa52-ae39-4f0e-9595-642f112f2b6e",
   "metadata": {},
   "outputs": [],
   "source": [
    "jf.replace_geometry('./mono_alkyne_singlet_uks_cam_b3lyp_631gdp.inp',coords)"
   ]
  },
  {
   "cell_type": "code",
   "execution_count": 2,
   "id": "551ea5f9-b7ef-48bd-93be-eee3385d3a5f",
   "metadata": {},
   "outputs": [
    {
     "data": {
      "text/plain": [
       "True"
      ]
     },
     "execution_count": 2,
     "metadata": {},
     "output_type": "execute_result"
    }
   ],
   "source": [
    "jf.add_freq_restart('./mono_alkyne_singlet_uks_cam_b3lyp_631gdp.inp','memory')"
   ]
  },
  {
   "cell_type": "code",
   "execution_count": 2,
   "id": "0d74d370-cedd-473b-9e90-379509832b0e",
   "metadata": {},
   "outputs": [
    {
     "name": "stdout",
     "output_type": "stream",
     "text": [
      "in increase_memory\n",
      "updating memory settings\n"
     ]
    }
   ],
   "source": [
    "jf.increase_memory('./mono_alkyne_singlet_uks_cam_b3lyp_631gdp.inp',1.4)"
   ]
  },
  {
   "cell_type": "code",
   "execution_count": null,
   "id": "3c00e96b-a0ed-498d-8dee-88220837385b",
   "metadata": {},
   "outputs": [],
   "source": []
  }
 ],
 "metadata": {
  "kernelspec": {
   "display_name": "Python 3 (ipykernel)",
   "language": "python",
   "name": "python3"
  },
  "language_info": {
   "codemirror_mode": {
    "name": "ipython",
    "version": 3
   },
   "file_extension": ".py",
   "mimetype": "text/x-python",
   "name": "python",
   "nbconvert_exporter": "python",
   "pygments_lexer": "ipython3",
   "version": "3.10.13"
  }
 },
 "nbformat": 4,
 "nbformat_minor": 5
}
