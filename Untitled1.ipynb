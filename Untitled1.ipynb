{
 "cells": [
  {
   "cell_type": "code",
   "execution_count": 1,
   "id": "349f60d3-c30b-4cec-97bb-67365a53e4c9",
   "metadata": {},
   "outputs": [],
   "source": [
    "import state_keeper as sk"
   ]
  },
  {
   "cell_type": "code",
   "execution_count": 2,
   "id": "718c17a6-2e3f-4825-8099-05a05a23fb62",
   "metadata": {},
   "outputs": [],
   "source": [
    "ledger = sk.read_batchfile('batchfile.csv')"
   ]
  },
  {
   "cell_type": "code",
   "execution_count": 3,
   "id": "67c954c4-8620-41f5-8ba5-1f099c41737c",
   "metadata": {},
   "outputs": [
    {
     "data": {
      "text/html": [
       "<div>\n",
       "<style scoped>\n",
       "    .dataframe tbody tr th:only-of-type {\n",
       "        vertical-align: middle;\n",
       "    }\n",
       "\n",
       "    .dataframe tbody tr th {\n",
       "        vertical-align: top;\n",
       "    }\n",
       "\n",
       "    .dataframe thead th {\n",
       "        text-align: right;\n",
       "    }\n",
       "</style>\n",
       "<table border=\"1\" class=\"dataframe\">\n",
       "  <thead>\n",
       "    <tr style=\"text-align: right;\">\n",
       "      <th></th>\n",
       "      <th>job_name</th>\n",
       "      <th>job_type</th>\n",
       "      <th>job_status</th>\n",
       "      <th>geometry_status</th>\n",
       "    </tr>\n",
       "  </thead>\n",
       "  <tbody>\n",
       "    <tr>\n",
       "      <th>0</th>\n",
       "      <td>mono_alkyne_triplet_uks_r2scan_3c_</td>\n",
       "      <td>opt_freq</td>\n",
       "      <td>not_started</td>\n",
       "      <td>not_started</td>\n",
       "    </tr>\n",
       "    <tr>\n",
       "      <th>1</th>\n",
       "      <td>mono_alkyne_singlet_uks_r2scan_3c_</td>\n",
       "      <td>opt_freq</td>\n",
       "      <td>not_started</td>\n",
       "      <td>not_started</td>\n",
       "    </tr>\n",
       "  </tbody>\n",
       "</table>\n",
       "</div>"
      ],
      "text/plain": [
       "                             job_name   job_type   job_status geometry_status\n",
       "0  mono_alkyne_triplet_uks_r2scan_3c_   opt_freq  not_started     not_started\n",
       "1  mono_alkyne_singlet_uks_r2scan_3c_   opt_freq  not_started     not_started"
      ]
     },
     "execution_count": 3,
     "metadata": {},
     "output_type": "execute_result"
    }
   ],
   "source": [
    "ledger"
   ]
  },
  {
   "cell_type": "code",
   "execution_count": 4,
   "id": "c804af27-6d68-4651-927f-dd26ccc553e6",
   "metadata": {},
   "outputs": [],
   "source": [
    "sk.update_state(ledger)"
   ]
  },
  {
   "cell_type": "code",
   "execution_count": 5,
   "id": "d342cec2-38c7-4e3f-876e-603c7c9c4a21",
   "metadata": {},
   "outputs": [
    {
     "data": {
      "text/html": [
       "<div>\n",
       "<style scoped>\n",
       "    .dataframe tbody tr th:only-of-type {\n",
       "        vertical-align: middle;\n",
       "    }\n",
       "\n",
       "    .dataframe tbody tr th {\n",
       "        vertical-align: top;\n",
       "    }\n",
       "\n",
       "    .dataframe thead th {\n",
       "        text-align: right;\n",
       "    }\n",
       "</style>\n",
       "<table border=\"1\" class=\"dataframe\">\n",
       "  <thead>\n",
       "    <tr style=\"text-align: right;\">\n",
       "      <th></th>\n",
       "      <th>job_name</th>\n",
       "      <th>job_type</th>\n",
       "      <th>job_status</th>\n",
       "      <th>geometry_status</th>\n",
       "    </tr>\n",
       "  </thead>\n",
       "  <tbody>\n",
       "    <tr>\n",
       "      <th>0</th>\n",
       "      <td>mono_alkyne_triplet_uks_r2scan_3c_</td>\n",
       "      <td>opt_freq</td>\n",
       "      <td>not_started</td>\n",
       "      <td>not_started</td>\n",
       "    </tr>\n",
       "    <tr>\n",
       "      <th>1</th>\n",
       "      <td>mono_alkyne_singlet_uks_r2scan_3c_</td>\n",
       "      <td>opt_freq</td>\n",
       "      <td>not_started</td>\n",
       "      <td>not_started</td>\n",
       "    </tr>\n",
       "  </tbody>\n",
       "</table>\n",
       "</div>"
      ],
      "text/plain": [
       "                             job_name   job_type   job_status geometry_status\n",
       "0  mono_alkyne_triplet_uks_r2scan_3c_   opt_freq  not_started     not_started\n",
       "1  mono_alkyne_singlet_uks_r2scan_3c_   opt_freq  not_started     not_started"
      ]
     },
     "execution_count": 5,
     "metadata": {},
     "output_type": "execute_result"
    }
   ],
   "source": [
    "ledger"
   ]
  },
  {
   "cell_type": "code",
   "execution_count": 6,
   "id": "4abb9e42-c391-4cec-8ba8-775e8fca357e",
   "metadata": {},
   "outputs": [
    {
     "name": "stdout",
     "output_type": "stream",
     "text": [
      "0 jobs running\n",
      "0 jobs running\n"
     ]
    },
    {
     "data": {
      "text/plain": [
       "0"
      ]
     },
     "execution_count": 6,
     "metadata": {},
     "output_type": "execute_result"
    }
   ],
   "source": [
    "sk.act_on_state(ledger,0)"
   ]
  },
  {
   "cell_type": "code",
   "execution_count": 7,
   "id": "d87dea59-35ff-41d5-bf1c-176c44f43a69",
   "metadata": {},
   "outputs": [
    {
     "name": "stdout",
     "output_type": "stream",
     "text": [
      "sbatch \"./mono_alkyne_triplet_uks_r2scan_3c_/*.sh\"\n"
     ]
    },
    {
     "data": {
      "text/plain": [
       "1"
      ]
     },
     "execution_count": 7,
     "metadata": {},
     "output_type": "execute_result"
    }
   ],
   "source": [
    "sk.queue_new_jobs(ledger,0,1)"
   ]
  },
  {
   "cell_type": "code",
   "execution_count": 8,
   "id": "2f875215-413c-42d5-88dd-dd429c36ff35",
   "metadata": {},
   "outputs": [
    {
     "data": {
      "text/html": [
       "<div>\n",
       "<style scoped>\n",
       "    .dataframe tbody tr th:only-of-type {\n",
       "        vertical-align: middle;\n",
       "    }\n",
       "\n",
       "    .dataframe tbody tr th {\n",
       "        vertical-align: top;\n",
       "    }\n",
       "\n",
       "    .dataframe thead th {\n",
       "        text-align: right;\n",
       "    }\n",
       "</style>\n",
       "<table border=\"1\" class=\"dataframe\">\n",
       "  <thead>\n",
       "    <tr style=\"text-align: right;\">\n",
       "      <th></th>\n",
       "      <th>job_name</th>\n",
       "      <th>job_type</th>\n",
       "      <th>job_status</th>\n",
       "      <th>geometry_status</th>\n",
       "    </tr>\n",
       "  </thead>\n",
       "  <tbody>\n",
       "    <tr>\n",
       "      <th>0</th>\n",
       "      <td>mono_alkyne_triplet_uks_r2scan_3c_</td>\n",
       "      <td>opt_freq</td>\n",
       "      <td>running</td>\n",
       "      <td>not_started</td>\n",
       "    </tr>\n",
       "    <tr>\n",
       "      <th>1</th>\n",
       "      <td>mono_alkyne_singlet_uks_r2scan_3c_</td>\n",
       "      <td>opt_freq</td>\n",
       "      <td>not_started</td>\n",
       "      <td>not_started</td>\n",
       "    </tr>\n",
       "  </tbody>\n",
       "</table>\n",
       "</div>"
      ],
      "text/plain": [
       "                             job_name   job_type   job_status geometry_status\n",
       "0  mono_alkyne_triplet_uks_r2scan_3c_   opt_freq      running     not_started\n",
       "1  mono_alkyne_singlet_uks_r2scan_3c_   opt_freq  not_started     not_started"
      ]
     },
     "execution_count": 8,
     "metadata": {},
     "output_type": "execute_result"
    }
   ],
   "source": [
    "ledger"
   ]
  },
  {
   "cell_type": "code",
   "execution_count": null,
   "id": "e7ca8a3b-6e4a-49ee-9352-26f060ca6e34",
   "metadata": {},
   "outputs": [],
   "source": []
  },
  {
   "cell_type": "code",
   "execution_count": null,
   "id": "116c596d-10b7-441b-9493-b596ecb0e2b2",
   "metadata": {},
   "outputs": [],
   "source": []
  }
 ],
 "metadata": {
  "kernelspec": {
   "display_name": "Python 3 (ipykernel)",
   "language": "python",
   "name": "python3"
  },
  "language_info": {
   "codemirror_mode": {
    "name": "ipython",
    "version": 3
   },
   "file_extension": ".py",
   "mimetype": "text/x-python",
   "name": "python",
   "nbconvert_exporter": "python",
   "pygments_lexer": "ipython3",
   "version": "3.10.13"
  }
 },
 "nbformat": 4,
 "nbformat_minor": 5
}
