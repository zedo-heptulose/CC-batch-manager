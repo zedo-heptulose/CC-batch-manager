{
 "cells": [
  {
   "cell_type": "code",
   "execution_count": 4,
   "id": "b908b24e-f92a-4e57-a35d-be042c2f833f",
   "metadata": {},
   "outputs": [],
   "source": [
    "import file_parser\n",
    "import postprocessing\n",
    "import os\n",
    "import json"
   ]
  },
  {
   "cell_type": "code",
   "execution_count": 2,
   "id": "2bd05f3e-f707-4703-bb88-ba5f56587455",
   "metadata": {},
   "outputs": [],
   "source": [
    "root_dir = '/gpfs/home/gdb20/computations/kimberley/data'\n",
    "#this is all you have to change\n",
    "#go to the directory you want to use\n",
    "#enter the \"pwd\" command\n",
    "#copy paste into this string"
   ]
  },
  {
   "cell_type": "code",
   "execution_count": 3,
   "id": "2b717523-f1bb-480e-b582-81d82e0bbe0e",
   "metadata": {},
   "outputs": [],
   "source": [
    "gaussian_rules = 'rules/gaussian_rules.dat'\n",
    "orca_rules = 'rules/orca_rules.dat'\n",
    "crest_rules ='rules/crest_rules.dat'\n",
    "xtb_rules =  'rules/xtb_rules.dat'"
   ]
  },
  {
   "cell_type": "code",
   "execution_count": 5,
   "id": "e22d2725-5357-46ab-899e-035573e281e2",
   "metadata": {},
   "outputs": [],
   "source": [
    "# file_1 = '/gpfs/home/gdb20/computations/kimberley/data/protonated/Fragmentation Protonated/PFOS"
   ]
  },
  {
   "cell_type": "code",
   "execution_count": 8,
   "id": "a6bdff4c-6001-477f-849d-08b5aceb3d81",
   "metadata": {},
   "outputs": [],
   "source": [
    "#data = file_parser.extract_data(file_1,gaussian_rules)"
   ]
  },
  {
   "cell_type": "code",
   "execution_count": 11,
   "id": "ec90a569-ac76-4637-861a-8ad8a9e21bb6",
   "metadata": {},
   "outputs": [],
   "source": [
    "# with open(os.path.join(root_dir,'filename.json'),'w') as file:\n",
    "#     json.dump(data,file,indent=\"\")"
   ]
  },
  {
   "cell_type": "code",
   "execution_count": 16,
   "id": "979e3e94-6c49-47e6-ba9b-c980cc1b0a1f",
   "metadata": {},
   "outputs": [],
   "source": [
    "def extract_one_file(read_path,write_path):\n",
    "    data = file_parser.extract_data(read_path,gaussian_rules)\n",
    "    name = os.path.basename(read_path)\n",
    "    with open(os.path.join(write_path,f'{name}.json'),'w') as file:\n",
    "        json.dump(data,file,indent=\"\")"
   ]
  },
  {
   "cell_type": "code",
   "execution_count": 17,
   "id": "f608be24-a819-4811-bb01-5ba120e9bf8a",
   "metadata": {},
   "outputs": [],
   "source": [
    "#extract_one_file(file_1,root_dir)"
   ]
  },
  {
   "cell_type": "code",
   "execution_count": 18,
   "id": "75efca67-24a6-437f-acd0-fc12e6e38a61",
   "metadata": {},
   "outputs": [],
   "source": [
    "def extract_whole_directory(root_dir):\n",
    "    for root,dirs,files in os.walk(root_dir):\n",
    "        for filename in files:\n",
    "            if filename.endswith('.log'):\n",
    "                path = os.path.join(root,filename)\n",
    "                extract_one_file(path,root_dir)"
   ]
  },
  {
   "cell_type": "code",
   "execution_count": 19,
   "id": "c62d0251-c3a5-4e62-bd9e-d2eb2a824e18",
   "metadata": {},
   "outputs": [],
   "source": [
    "extract_whole_directory(root_dir)"
   ]
  },
  {
   "cell_type": "code",
   "execution_count": null,
   "id": "d80be0a0-b0d6-4a93-8ef8-d7bc179635db",
   "metadata": {},
   "outputs": [],
   "source": []
  }
 ],
 "metadata": {
  "kernelspec": {
   "display_name": "Python 3 (ipykernel)",
   "language": "python",
   "name": "python3"
  },
  "language_info": {
   "codemirror_mode": {
    "name": "ipython",
    "version": 3
   },
   "file_extension": ".py",
   "mimetype": "text/x-python",
   "name": "python",
   "nbconvert_exporter": "python",
   "pygments_lexer": "ipython3",
   "version": "3.11.5"
  }
 },
 "nbformat": 4,
 "nbformat_minor": 5
}
