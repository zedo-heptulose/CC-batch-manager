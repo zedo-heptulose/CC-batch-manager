{
 "cells": [
  {
   "cell_type": "code",
   "execution_count": 4,
   "id": "91d1b4f0-a01c-4e47-b2b5-cb219077b469",
   "metadata": {},
   "outputs": [
    {
     "name": "stdout",
     "output_type": "stream",
     "text": [
      "/gpfs/home/gdb20/code/batch-manager/src\n"
     ]
    }
   ],
   "source": [
    "cd ../src"
   ]
  },
  {
   "cell_type": "code",
   "execution_count": 5,
   "id": "fbcc6c51-0110-4956-baae-2bcdd6da0e58",
   "metadata": {},
   "outputs": [],
   "source": [
    "import input_files\n",
    "import input_combi\n",
    "import helpers\n",
    "import os"
   ]
  },
  {
   "cell_type": "code",
   "execution_count": 8,
   "id": "1f85f589-a563-4f75-a69b-d28985d8ed04",
   "metadata": {},
   "outputs": [
    {
     "name": "stdout",
     "output_type": "stream",
     "text": [
      "{'n_3_sulfonate_cf_bdes': {'SO3_CF2_0_CF_CF2_1_CF3': {'xyz_directory': '/gpfs/home/gdb20/code/mol-maker/data/kimberley/n_3_sulfonate_cf_bdes', 'xyz_file': 'SO3_CF2_0_CF_CF2_1_CF3.xyz'}, 'SO3_CF2_0_CF_CF2_0_CF3': {'xyz_directory': '/gpfs/home/gdb20/code/mol-maker/data/kimberley/n_3_sulfonate_cf_bdes', 'xyz_file': 'SO3_CF2_0_CF_CF2_0_CF3.xyz'}, 'SO3_CF2_1_CF_CF2_0_CF3': {'xyz_directory': '/gpfs/home/gdb20/code/mol-maker/data/kimberley/n_3_sulfonate_cf_bdes', 'xyz_file': 'SO3_CF2_1_CF_CF2_0_CF3.xyz'}, '!directories': True}, 'n_3_sulfonic_acid_cf_bdes': {'HSO3_CF2_1_CF_CF2_0_CF3': {'xyz_directory': '/gpfs/home/gdb20/code/mol-maker/data/kimberley/n_3_sulfonic_acid_cf_bdes', 'xyz_file': 'HSO3_CF2_1_CF_CF2_0_CF3.xyz'}, 'HSO3_CF2_0_CF_CF2_0_CF3': {'xyz_directory': '/gpfs/home/gdb20/code/mol-maker/data/kimberley/n_3_sulfonic_acid_cf_bdes', 'xyz_file': 'HSO3_CF2_0_CF_CF2_0_CF3.xyz'}, 'HSO3_CF2_0_CF_CF2_1_CF3': {'xyz_directory': '/gpfs/home/gdb20/code/mol-maker/data/kimberley/n_3_sulfonic_acid_cf_bdes', 'xyz_file': 'HSO3_CF2_0_CF_CF2_1_CF3.xyz'}, '!directories': True}, 'n_3_intact_sulfonates': {'SO3_CF2_2_CF3': {'xyz_directory': '/gpfs/home/gdb20/code/mol-maker/data/kimberley/n_3_intact_sulfonates', 'xyz_file': 'SO3_CF2_2_CF3.xyz'}, 'SO3_CF2_0_CF3': {'xyz_directory': '/gpfs/home/gdb20/code/mol-maker/data/kimberley/n_3_intact_sulfonates', 'xyz_file': 'SO3_CF2_0_CF3.xyz'}, 'SO3_CF2_1_CF3': {'xyz_directory': '/gpfs/home/gdb20/code/mol-maker/data/kimberley/n_3_intact_sulfonates', 'xyz_file': 'SO3_CF2_1_CF3.xyz'}, '!directories': True}, 'n_3_intact_sulfonic_acids': {'HSO3_CF2_0_CF3': {'xyz_directory': '/gpfs/home/gdb20/code/mol-maker/data/kimberley/n_3_intact_sulfonic_acids', 'xyz_file': 'HSO3_CF2_0_CF3.xyz'}, 'HSO3_CF2_2_CF3': {'xyz_directory': '/gpfs/home/gdb20/code/mol-maker/data/kimberley/n_3_intact_sulfonic_acids', 'xyz_file': 'HSO3_CF2_2_CF3.xyz'}, 'HSO3_CF2_1_CF3': {'xyz_directory': '/gpfs/home/gdb20/code/mol-maker/data/kimberley/n_3_intact_sulfonic_acids', 'xyz_file': 'HSO3_CF2_1_CF3.xyz'}, '!directories': True}, 'n_3_sulfonate_fragments': {'SO3_CF2_1_CF2': {'xyz_directory': '/gpfs/home/gdb20/code/mol-maker/data/kimberley/n_3_sulfonate_fragments', 'xyz_file': 'SO3_CF2_1_CF2.xyz'}, 'SO3_CF2_2_CF2': {'xyz_directory': '/gpfs/home/gdb20/code/mol-maker/data/kimberley/n_3_sulfonate_fragments', 'xyz_file': 'SO3_CF2_2_CF2.xyz'}, '!directories': True}, 'n_3_sulfonic_acid_fragments': {'HSO3_CF2_1_CF2': {'xyz_directory': '/gpfs/home/gdb20/code/mol-maker/data/kimberley/n_3_sulfonic_acid_fragments', 'xyz_file': 'HSO3_CF2_1_CF2.xyz'}, 'HSO3_CF2_2_CF2': {'xyz_directory': '/gpfs/home/gdb20/code/mol-maker/data/kimberley/n_3_sulfonic_acid_fragments', 'xyz_file': 'HSO3_CF2_2_CF2.xyz'}, '!directories': True}, 'n_3_perfluoroalkyl_fragments': {'CF3_CF2_3': {'xyz_directory': '/gpfs/home/gdb20/code/mol-maker/data/kimberley/n_3_perfluoroalkyl_fragments', 'xyz_file': 'CF3_CF2_3.xyz'}, 'CF3_CF2_1': {'xyz_directory': '/gpfs/home/gdb20/code/mol-maker/data/kimberley/n_3_perfluoroalkyl_fragments', 'xyz_file': 'CF3_CF2_1.xyz'}, 'CF3_CF2_2': {'xyz_directory': '/gpfs/home/gdb20/code/mol-maker/data/kimberley/n_3_perfluoroalkyl_fragments', 'xyz_file': 'CF3_CF2_2.xyz'}, '!directories': True}}\n"
     ]
    }
   ],
   "source": [
    "global_configs = { \n",
    "    '' : \n",
    "    {\n",
    "        'num_cores' : 8,\n",
    "        'mem_per_cpu_GB' : 4,\n",
    "        'runtime' : '0-01:00:00',\n",
    "        'max_jobs' : 25,\n",
    "        #'solvent' : 'water',\n",
    "    },\n",
    "}\n",
    "\n",
    "xyz_root = '/gpfs/home/gdb20/code/mol-maker/data/kimberley/'\n",
    "directories= [\n",
    "    'intact_sulfonic_acids',\n",
    "    'intact_sulfonates',\n",
    "    'n_8_sulfonic_acid_cf_bdes',\n",
    "    'n_8_sulfonate_acid_cf_bdes',\n",
    "    'sulfonic_acids_fragments',\n",
    "    'sulfonate_fragments',\n",
    "]\n",
    "\n",
    "ccsd_t_directories = [\n",
    "    'n_3_sulfonate_cf_bdes',\n",
    "    'n_3_sulfonic_acid_cf_bdes',\n",
    "    'n_3_intact_sulfonates',\n",
    "    'n_3_intact_sulfonic_acids',\n",
    "    'n_3_sulfonate_fragments',\n",
    "    'n_3_sulfonic_acid_fragments',\n",
    "    'n_3_perfluoroalkyl_fragments',\n",
    "]\n",
    "\n",
    "molecules = {}\n",
    "for directory in directories:\n",
    "    acids_dir = os.path.join(xyz_root,'acids')\n",
    "    molecules[directory] = input_combi.xyz_files_from_directory(acids_dir)\n",
    "    molecules[directory]['!directories'] = True\n",
    "\n",
    "ccsdt_molecules = {}\n",
    "for directory in ccsd_t_directories:\n",
    "    my_dir = os.path.join(xyz_root,directory)\n",
    "    ccsdt_molecules[directory] = input_combi.xyz_files_from_directory(my_dir)\n",
    "    ccsdt_molecules[directory]['!directories'] = True\n",
    "\n",
    "print(ccsdt_molecules)\n",
    "\n",
    "cation_doublet = {'charge' : 1, 'spin_multiplicity' : 2}\n",
    "neutral_doublet = {'charge': 0, 'spin_multiplicity' : 2}\n",
    "neutral_singlet = {'charge' : 0 , 'spin_multiplicity' : 1}\n",
    "anion_doublet = {'charge' : -1 , 'spin_multiplicity' : 2}\n",
    "anion_singlet = {'charge' : -1 , 'spin_multiplicity' : 1} \n",
    "dianion_doublet = {'charge' : -2 , 'spin_multiplicity' : 2}\n",
    "neutral_triplet = {'charge' : 0, 'spin_multiplicity': 3}\n",
    "anion_triplet = {'charge' : -1, 'spin_multiplicity' : 3}\n",
    "\n",
    "acid_cm_states = {\n",
    "    '0_1' : neutral_singlet,\n",
    "    '-1_2': anion_doublet,\n",
    "}\n",
    "base_cm_states = {\n",
    "    '-1_1' : anion_singlet,\n",
    "    '-2_2' : dianion_doublet,\n",
    "}\n",
    "alkyl_radical_cm_states = {\n",
    "    '-1_1' : anion_singlet,\n",
    "}\n",
    "acid_frag_states = {\n",
    "    #'+1_1' : cation_singlet,\n",
    "    '0_2' : neutral_doublet, #consider triplet state here too\n",
    "}\n",
    "base_frag_states = {\n",
    "    '0_1' : neutral_singlet,\n",
    "    '-1_2' : anion_doublet,\n",
    "    #'-1_3' : anion_triplet,\n",
    "}\n",
    "\n",
    "\n",
    "\n",
    "crude_method = {\n",
    "    'crest' : {\n",
    "        'program' : 'CREST',\n",
    "        'functional' : 'gfn2//gfnff',\n",
    "        'quick' : 'squick',\n",
    "        'reopt' : True,\n",
    "        'cluster' : True,\n",
    "        'noreftopo' :True #might regret this\n",
    "        },\n",
    "    'xtb_gfn2_opt_freq' : {\n",
    "        'program' : 'XTB',\n",
    "        'functional' : 'gfn2',\n",
    "        'run_type' : 'ohess', #opt-freq\n",
    "        '!coords_from' : '../crest',\n",
    "        '!xyz_file' : 'crest_best.xyz',\n",
    "    },\n",
    "    'r2scan_3c_sp' : {\n",
    "        'program' : 'ORCA',\n",
    "        'functional' : 'r2SCAN-3c',\n",
    "        'integration_grid' : 'DEFGRID2',\n",
    "        '!coords_from' : '../xtb_gfn2_opt_freq',\n",
    "        '!xyz_file' : 'xtbopt.xyz',\n",
    "    }, \n",
    "}\n"
   ]
  },
  {
   "cell_type": "code",
   "execution_count": 5,
   "id": "a6599d2f-bd9c-443a-94b2-1631dfc4f32e",
   "metadata": {},
   "outputs": [
    {
     "name": "stdout",
     "output_type": "stream",
     "text": [
      "Job Directory NOT WRITTEN at /gpfs/research/alabuginlab/gage/kimberley/ccsd_t/_0_1_HSO3_CF2_0_CF3/DLPNO-CCSD_T_/CBS\n",
      "Job Directory NOT WRITTEN at /gpfs/research/alabuginlab/gage/kimberley/ccsd_t/_0_1_HSO3_CF2_2_CF3/DLPNO-CCSD_T_/CBS\n",
      "Job Directory NOT WRITTEN at /gpfs/research/alabuginlab/gage/kimberley/ccsd_t/_0_1_HSO3_CF2_1_CF3/DLPNO-CCSD_T_/CBS\n",
      "Job Directory NOT WRITTEN at /gpfs/research/alabuginlab/gage/kimberley/ccsd_t/_-1_2_HSO3_CF2_0_CF3/DLPNO-CCSD_T_/CBS\n",
      "Job Directory NOT WRITTEN at /gpfs/research/alabuginlab/gage/kimberley/ccsd_t/_-1_2_HSO3_CF2_2_CF3/DLPNO-CCSD_T_/CBS\n",
      "Job Directory NOT WRITTEN at /gpfs/research/alabuginlab/gage/kimberley/ccsd_t/_-1_2_HSO3_CF2_1_CF3/DLPNO-CCSD_T_/CBS\n",
      "Job Directory NOT WRITTEN at /gpfs/research/alabuginlab/gage/kimberley/ccsd_t/_-1_1_SO3_CF2_2_CF3/DLPNO-CCSD_T_/CBS\n",
      "Job Directory NOT WRITTEN at /gpfs/research/alabuginlab/gage/kimberley/ccsd_t/_-1_1_SO3_CF2_0_CF3/DLPNO-CCSD_T_/CBS\n",
      "Job Directory NOT WRITTEN at /gpfs/research/alabuginlab/gage/kimberley/ccsd_t/_-1_1_SO3_CF2_1_CF3/DLPNO-CCSD_T_/CBS\n",
      "Job Directory NOT WRITTEN at /gpfs/research/alabuginlab/gage/kimberley/ccsd_t/_-2_2_SO3_CF2_2_CF3/DLPNO-CCSD_T_/CBS\n",
      "Job Directory NOT WRITTEN at /gpfs/research/alabuginlab/gage/kimberley/ccsd_t/_-2_2_SO3_CF2_0_CF3/DLPNO-CCSD_T_/CBS\n",
      "Job Directory NOT WRITTEN at /gpfs/research/alabuginlab/gage/kimberley/ccsd_t/_-2_2_SO3_CF2_1_CF3/DLPNO-CCSD_T_/CBS\n",
      "Job Directory NOT WRITTEN at /gpfs/research/alabuginlab/gage/kimberley/ccsd_t/_-1_1_CF3_CF2_3/DLPNO-CCSD_T_/CBS\n",
      "Job Directory NOT WRITTEN at /gpfs/research/alabuginlab/gage/kimberley/ccsd_t/_-1_1_CF3_CF2_1/DLPNO-CCSD_T_/CBS\n",
      "Job Directory NOT WRITTEN at /gpfs/research/alabuginlab/gage/kimberley/ccsd_t/_-1_1_CF3_CF2_2/DLPNO-CCSD_T_/CBS\n",
      "Job Directory NOT WRITTEN at /gpfs/research/alabuginlab/gage/kimberley/ccsd_t/_0_2_HSO3_CF2_1_CF2/DLPNO-CCSD_T_/CBS\n",
      "Job Directory NOT WRITTEN at /gpfs/research/alabuginlab/gage/kimberley/ccsd_t/_0_2_HSO3_CF2_2_CF2/DLPNO-CCSD_T_/CBS\n",
      "Job Directory NOT WRITTEN at /gpfs/research/alabuginlab/gage/kimberley/ccsd_t/_0_2_HSO3_CF2_1_CF_CF2_0_CF3/DLPNO-CCSD_T_/CBS\n",
      "Job Directory NOT WRITTEN at /gpfs/research/alabuginlab/gage/kimberley/ccsd_t/_0_2_HSO3_CF2_0_CF_CF2_0_CF3/DLPNO-CCSD_T_/CBS\n",
      "Job Directory NOT WRITTEN at /gpfs/research/alabuginlab/gage/kimberley/ccsd_t/_0_2_HSO3_CF2_0_CF_CF2_1_CF3/DLPNO-CCSD_T_/CBS\n",
      "Job Directory NOT WRITTEN at /gpfs/research/alabuginlab/gage/kimberley/ccsd_t/_0_1_SO3_CF2_1_CF2/DLPNO-CCSD_T_/CBS\n",
      "Job Directory NOT WRITTEN at /gpfs/research/alabuginlab/gage/kimberley/ccsd_t/_0_1_SO3_CF2_2_CF2/DLPNO-CCSD_T_/CBS\n",
      "Job Directory NOT WRITTEN at /gpfs/research/alabuginlab/gage/kimberley/ccsd_t/_-1_2_SO3_CF2_1_CF2/DLPNO-CCSD_T_/CBS\n",
      "Job Directory NOT WRITTEN at /gpfs/research/alabuginlab/gage/kimberley/ccsd_t/_-1_2_SO3_CF2_2_CF2/DLPNO-CCSD_T_/CBS\n",
      "Job Directory NOT WRITTEN at /gpfs/research/alabuginlab/gage/kimberley/ccsd_t/_0_1_SO3_CF2_0_CF_CF2_1_CF3/DLPNO-CCSD_T_/CBS\n",
      "Job Directory NOT WRITTEN at /gpfs/research/alabuginlab/gage/kimberley/ccsd_t/_0_1_SO3_CF2_0_CF_CF2_0_CF3/DLPNO-CCSD_T_/CBS\n",
      "Job Directory NOT WRITTEN at /gpfs/research/alabuginlab/gage/kimberley/ccsd_t/_0_1_SO3_CF2_1_CF_CF2_0_CF3/DLPNO-CCSD_T_/CBS\n",
      "Job Directory NOT WRITTEN at /gpfs/research/alabuginlab/gage/kimberley/ccsd_t/_-1_2_SO3_CF2_0_CF_CF2_1_CF3/DLPNO-CCSD_T_/CBS\n",
      "Job Directory NOT WRITTEN at /gpfs/research/alabuginlab/gage/kimberley/ccsd_t/_-1_2_SO3_CF2_0_CF_CF2_0_CF3/DLPNO-CCSD_T_/CBS\n",
      "Job Directory NOT WRITTEN at /gpfs/research/alabuginlab/gage/kimberley/ccsd_t/_-1_2_SO3_CF2_1_CF_CF2_0_CF3/DLPNO-CCSD_T_/CBS\n"
     ]
    }
   ],
   "source": [
    "root_dir ='/gpfs/research/alabuginlab/gage/kimberley/ccsd_t/'\n",
    "# aconfigs, aflags = input_combi.sort_flags([global_configs,acid_cm_states,acid_mols,crude_method])\n",
    "# apaths = input_combi.iterate_inputs(aconfigs,aflags)\n",
    "# input_combi.write_input_array(apaths,root_dir)\n",
    "# input_combi.write_batchfile(apaths,root_dir,'batchfile.csv')\n",
    "\n",
    "# bconfigs, bflags = input_combi.sort_flags([global_configs,base_cm_states,base_mols,crude_method])\n",
    "# bpaths = input_combi.iterate_inputs(bconfigs,bflags)\n",
    "# input_combi.write_input_array(bpaths,root_dir)\n",
    "# input_combi.write_batchfile(bpaths,root_dir,'batchfile.csv')\n",
    "\n",
    "# cconfigs,cflags = input_combi.sort_flags([global_configs,alkyl_radical_states,alkyl_mols,crude_method])\n",
    "# cpaths = input_combi.iterate_---/nput_combi.write_input_array(cpaths,root_dir)\n",
    "# input_combi.write_batchfile(cpaths,root_dir,'batchfile.csv')\n",
    "\n",
    "\n",
    "#acid_cm_states = {\n",
    "#base_cm_states = {\n",
    "#alkyl_radical_cm_states = \n",
    "#acid_frag_states \n",
    "#base_frag_states = {\n",
    "input_combi.do_everything(\n",
    "    [global_configs,acid_cm_states,ccsdt_molecules['n_3_intact_sulfonic_acids'],ccsd_t_method],\n",
    "    root_dir,\n",
    ")\n",
    "input_combi.do_everything(\n",
    "    [global_configs,base_cm_states,ccsdt_molecules['n_3_intact_sulfonates'],ccsd_t_method],\n",
    "    root_dir,\n",
    ")\n",
    "input_combi.do_everything(\n",
    "    [global_configs,alkyl_radical_cm_states,ccsdt_molecules['n_3_perfluoroalkyl_fragments'],ccsd_t_method],\n",
    "    root_dir,\n",
    ")\n",
    "input_combi.do_everything(\n",
    "    [global_configs,acid_frag_states,ccsdt_molecules['n_3_sulfonic_acid_fragments'],ccsd_t_method],\n",
    "    root_dir,\n",
    ")\n",
    "input_combi.do_everything(\n",
    "    [global_configs,acid_frag_states,ccsdt_molecules['n_3_sulfonic_acid_cf_bdes'],ccsd_t_method],\n",
    "    root_dir,\n",
    ")\n",
    "input_combi.do_everything(\n",
    "    [global_configs,base_frag_states,ccsdt_molecules['n_3_sulfonate_fragments'],ccsd_t_method],\n",
    "    root_dir,\n",
    ")\n",
    "input_combi.do_everything(\n",
    "    [global_configs,base_frag_states,ccsdt_molecules['n_3_sulfonate_cf_bdes'],ccsd_t_method],\n",
    "    root_dir,\n",
    ")"
   ]
  },
  {
   "cell_type": "code",
   "execution_count": 29,
   "id": "8067ab77-05c0-4cd0-873a-2f743734af29",
   "metadata": {},
   "outputs": [],
   "source": [
    "root_dir ='/gpfs/research/alabuginlab/gage/kimberley/cc_test/'\n",
    "cc_method = {\n",
    "    'crest' : {\n",
    "        'program' : 'CREST',\n",
    "        'functional' : 'gfn2',\n",
    "        'quick' : False,\n",
    "        'reopt' : False,\n",
    "        'cluster' : True,\n",
    "        'noreftopo' : True #might regret this\n",
    "    },    \n",
    "    'r2scan_3c_opt_freq' : {\n",
    "        'program' : 'ORCA',\n",
    "        'functional' : 'r2SCAN-3c',\n",
    "        'run_type' : 'OPT FREQ',\n",
    "        'run_time' : '1-00:00:00',\n",
    "        'integration_grid' : 'DefGrid3',\n",
    "        '!coords_from' : '../crest',\n",
    "        '!xyz_file' : 'crest_best.xyz',\n",
    "    }, \n",
    "    'DLPNO-CCSD_T_CBS' : {\n",
    "        'num_cores' : 24, #24 cores, 5 days for a singlepoint on a small molecule good enough?\n",
    "        'program' : 'ORCA',\n",
    "        'functional' : 'TightPNO DLPNO-CCSD(T) RIJCOSX', #recommended settings\n",
    "        'basis' : 'Extrapolate(2/3,aug-cc)', #this might not still work....\n",
    "        'aux_basis' : 'aug-cc-pVTZ/C',\n",
    "        'run_time' : '5-00:00:00', #how long do these take, anyways?\n",
    "        'scf_tolerance' : 'TightSCF',\n",
    "        'integration_grid' : 'DefGrid2',\n",
    "        '!coords_from' : '../r2scan_3c_opt_freq',\n",
    "        '!xyz_file' : 'r2scan_3c_opt_freq.xyz',\n",
    "    },\n",
    "}\n",
    "cc_molecules = {\n",
    "    '2-OH-PFB' : {\n",
    "        'xyz_directory' : '/gpfs/home/gdb20/code/mol-maker/data/kimberley/CCTEST',\n",
    "        'xyz_file' : '2-OH-PFB.xyz',\n",
    "    },\n",
    "    \n",
    "    '2-OH-PFB_anion' : {\n",
    "        'charge' : -1,\n",
    "        'spin_multiplicity' : 2,\n",
    "        'xyz_directory' : '/gpfs/home/gdb20/code/mol-maker/data/kimberley/CCTEST',\n",
    "        'xyz_file' : '2-OH-PFB.xyz',\n",
    "    },\n",
    "    \n",
    "    'perfluorobutane' : {\n",
    "        'xyz_directory' : '/gpfs/home/gdb20/code/mol-maker/data/kimberley/CCTEST',\n",
    "        'xyz_file' : 'perfluorobutane.xyz',\n",
    "    },\n",
    "    'perfurobutane_anion' : {\n",
    "        'charge' : -1,\n",
    "        'spin_multiplicity' : 2,\n",
    "        'xyz_directory' : '/gpfs/home/gdb20/code/mol-maker/data/kimberley/CCTEST',\n",
    "        'xyz_file' : 'perfluorobutane.xyz',\n",
    "        \n",
    "    },\n",
    "    \n",
    "    'F-' : {\n",
    "        'charge' : -1,\n",
    "        'xyz_directory' : '/gpfs/home/gdb20/code/mol-maker/data/kimberley/CCTEST',\n",
    "        'xyz_file' : '2-OH-PFB.xyz',\n",
    "    },\n",
    "    \n",
    "    'OH-' : {\n",
    "        'charge' : -1,\n",
    "        'xyz_directory' : '/gpfs/home/gdb20/code/mol-maker/data/kimberley/CCTEST',\n",
    "        'xyz_file' : '2-OH-PFB.xyz',\n",
    "    },\n",
    "    '!directories' : True\n",
    "}"
   ]
  },
  {
   "cell_type": "code",
   "execution_count": 30,
   "id": "8ba66936-7928-4ec9-88c3-bcab132d54f4",
   "metadata": {},
   "outputs": [
    {
     "name": "stdout",
     "output_type": "stream",
     "text": [
      "Job Directory NOT WRITTEN at /gpfs/research/alabuginlab/gage/kimberley/cc_test/_2-OH-PFB/crest\n",
      "Job Directory NOT WRITTEN at /gpfs/research/alabuginlab/gage/kimberley/cc_test/_2-OH-PFB/r2scan_3c_opt_freq\n",
      "Job Directory NOT WRITTEN at /gpfs/research/alabuginlab/gage/kimberley/cc_test/_2-OH-PFB/DLPNO-CCSD_T_CBS\n",
      "Job Directory NOT WRITTEN at /gpfs/research/alabuginlab/gage/kimberley/cc_test/_perfluorobutane/crest\n",
      "Job Directory NOT WRITTEN at /gpfs/research/alabuginlab/gage/kimberley/cc_test/_perfluorobutane/r2scan_3c_opt_freq\n",
      "Job Directory NOT WRITTEN at /gpfs/research/alabuginlab/gage/kimberley/cc_test/_perfluorobutane/DLPNO-CCSD_T_CBS\n",
      "Job Directory NOT WRITTEN at /gpfs/research/alabuginlab/gage/kimberley/cc_test/_F-/crest\n",
      "Job Directory NOT WRITTEN at /gpfs/research/alabuginlab/gage/kimberley/cc_test/_F-/r2scan_3c_opt_freq\n",
      "Job Directory NOT WRITTEN at /gpfs/research/alabuginlab/gage/kimberley/cc_test/_F-/DLPNO-CCSD_T_CBS\n",
      "Job Directory NOT WRITTEN at /gpfs/research/alabuginlab/gage/kimberley/cc_test/_OH-/crest\n",
      "Job Directory NOT WRITTEN at /gpfs/research/alabuginlab/gage/kimberley/cc_test/_OH-/r2scan_3c_opt_freq\n",
      "Job Directory NOT WRITTEN at /gpfs/research/alabuginlab/gage/kimberley/cc_test/_OH-/DLPNO-CCSD_T_CBS\n"
     ]
    }
   ],
   "source": [
    "input_combi.do_everything(\n",
    "    [global_configs,cc_molecules,cc_method],\n",
    "    root_dir,\n",
    ")\n",
    "#bug where this crashes if we don't use directory divisions for one of these\n",
    "#fix leading underscores"
   ]
  },
  {
   "cell_type": "code",
   "execution_count": 21,
   "id": "3fec928d-2f69-41dd-8926-640364087a4d",
   "metadata": {},
   "outputs": [
    {
     "data": {
      "text/plain": [
       "False"
      ]
     },
     "execution_count": 21,
     "metadata": {},
     "output_type": "execute_result"
    }
   ],
   "source": [
    "os.path.exists(\"/gpfs/home/gdb20/code/mol-maker/data/kimberley/CCTEST/2-OH-PFB.xyz\")"
   ]
  },
  {
   "cell_type": "code",
   "execution_count": 23,
   "id": "bea22962-12f8-42c9-bf7b-937355e143dd",
   "metadata": {},
   "outputs": [
    {
     "data": {
      "text/plain": [
       "True"
      ]
     },
     "execution_count": 23,
     "metadata": {},
     "output_type": "execute_result"
    }
   ],
   "source": [
    "os.path.exists(\"/gpfs/home/gdb20/code/mol-maker/data/kimberley/CCTEST/2-OH-PFB.xyz\")"
   ]
  },
  {
   "cell_type": "code",
   "execution_count": null,
   "id": "dc4997ff-fea3-4cd2-9d00-7717a8e7ec14",
   "metadata": {},
   "outputs": [],
   "source": []
  }
 ],
 "metadata": {
  "kernelspec": {
   "display_name": "Python 3 (ipykernel)",
   "language": "python",
   "name": "python3"
  },
  "language_info": {
   "codemirror_mode": {
    "name": "ipython",
    "version": 3
   },
   "file_extension": ".py",
   "mimetype": "text/x-python",
   "name": "python",
   "nbconvert_exporter": "python",
   "pygments_lexer": "ipython3",
   "version": "3.11.5"
  }
 },
 "nbformat": 4,
 "nbformat_minor": 5
}
