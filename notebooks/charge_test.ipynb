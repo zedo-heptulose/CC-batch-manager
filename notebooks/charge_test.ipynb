{
 "cells": [
  {
   "cell_type": "code",
   "execution_count": 1,
   "id": "e32948ef-4c1c-49ca-9b99-c282e5376ade",
   "metadata": {},
   "outputs": [
    {
     "name": "stdout",
     "output_type": "stream",
     "text": [
      "/gpfs/home/gdb20/code/batch-manager/src\n"
     ]
    }
   ],
   "source": [
    "cd ../src"
   ]
  },
  {
   "cell_type": "code",
   "execution_count": 2,
   "id": "1b429d08-24b0-4658-bea7-be236c3444c4",
   "metadata": {},
   "outputs": [],
   "source": [
    "import input_files\n",
    "import input_combi"
   ]
  },
  {
   "cell_type": "code",
   "execution_count": 5,
   "id": "6e175dfe-9b16-4aa0-af45-54cdfff90691",
   "metadata": {},
   "outputs": [],
   "source": [
    "global_configs = {'' : {}}\n",
    "\n",
    "root_dir ='/gpfs/research/alabuginlab/gage/kimberley/cc_test/'\n",
    "cc_method = {\n",
    "    'crest' : {\n",
    "        'program' : 'CREST',\n",
    "        'functional' : 'gfn2',\n",
    "        'quick' : False,\n",
    "        'reopt' : False,\n",
    "        'cluster' : True,\n",
    "        'noreftopo' : True #might regret this\n",
    "    },    \n",
    "    'r2scan_3c_opt_freq' : {\n",
    "        'program' : 'ORCA',\n",
    "        'functional' : 'r2SCAN-3c',\n",
    "        'run_type' : 'OPT FREQ',\n",
    "        'run_time' : '1-00:00:00',\n",
    "        'integration_grid' : 'DefGrid3',\n",
    "        '!coords_from' : '../crest',\n",
    "        '!xyz_file' : 'crest_best.xyz',\n",
    "    }, \n",
    "    'DLPNO-CCSD_T_CBS' : {\n",
    "        'num_cores' : 24, #24 cores, 5 days for a singlepoint on a small molecule good enough?\n",
    "        'program' : 'ORCA',\n",
    "        'functional' : 'TightPNO DLPNO-CCSD(T) RIJCOSX', #recommended settings\n",
    "        'basis' : 'Extrapolate(2/3,aug-cc)', #this might not still work....\n",
    "        'aux_basis' : 'aug-cc-pVTZ/C',\n",
    "        'run_time' : '5-00:00:00', #how long do these take, anyways?\n",
    "        'scf_tolerance' : 'TightSCF',\n",
    "        'integration_grid' : 'DefGrid2',\n",
    "        '!coords_from' : '../r2scan_3c_opt_freq',\n",
    "        '!xyz_file' : 'r2scan_3c_opt_freq.xyz',\n",
    "    },\n",
    "}\n",
    "cc_molecules = {\n",
    "    '2-OH-PFB' : {\n",
    "        'xyz_directory' : '/gpfs/home/gdb20/code/mol-maker/data/kimberley/CCTEST',\n",
    "        'xyz_file' : '2-OH-PFB.xyz',\n",
    "    },\n",
    "    \n",
    "    '2-OH-PFB_anion' : {\n",
    "        'charge' : -1,\n",
    "        'spin_multiplicity' : 2,\n",
    "        'xyz_directory' : '/gpfs/home/gdb20/code/mol-maker/data/kimberley/CCTEST',\n",
    "        'xyz_file' : '2-OH-PFB.xyz',\n",
    "    },\n",
    "    \n",
    "    'perfluorobutane' : {\n",
    "        'xyz_directory' : '/gpfs/home/gdb20/code/mol-maker/data/kimberley/CCTEST',\n",
    "        'xyz_file' : 'perfluorobutane.xyz',\n",
    "    },\n",
    "    'perfurobutane_anion' : {\n",
    "        'charge' : -1,\n",
    "        'spin_multiplicity' : 2,\n",
    "        'xyz_directory' : '/gpfs/home/gdb20/code/mol-maker/data/kimberley/CCTEST',\n",
    "        'xyz_file' : 'perfluorobutane.xyz',\n",
    "        \n",
    "    },\n",
    "    \n",
    "    'F-' : {\n",
    "        'charge' : -1,\n",
    "        'xyz_directory' : '/gpfs/home/gdb20/code/mol-maker/data/kimberley/CCTEST',\n",
    "        'xyz_file' : '2-OH-PFB.xyz',\n",
    "    },\n",
    "    \n",
    "    'OH-' : {\n",
    "        'charge' : -1,\n",
    "        'xyz_directory' : '/gpfs/home/gdb20/code/mol-maker/data/kimberley/CCTEST',\n",
    "        'xyz_file' : '2-OH-PFB.xyz',\n",
    "    },\n",
    "    #'!directories' : True\n",
    "}"
   ]
  },
  {
   "cell_type": "code",
   "execution_count": 6,
   "id": "15be1498-fa81-40d8-824f-ec81cca1db45",
   "metadata": {
    "scrolled": true
   },
   "outputs": [
    {
     "name": "stdout",
     "output_type": "stream",
     "text": [
      "IF I HAD ONE\n",
      "No write directory provided\n",
      "crest_best.xyz\n",
      "No write directory provided\n",
      "r2scan_3c_opt_freq.xyz\n",
      "No write directory provided\n",
      "IF I HAD ONE\n",
      "No write directory provided\n",
      "crest_best.xyz\n",
      "No write directory provided\n",
      "r2scan_3c_opt_freq.xyz\n",
      "No write directory provided\n",
      "IF I HAD ONE\n",
      "No write directory provided\n",
      "crest_best.xyz\n",
      "No write directory provided\n",
      "r2scan_3c_opt_freq.xyz\n",
      "No write directory provided\n",
      "IF I HAD ONE\n",
      "No write directory provided\n",
      "crest_best.xyz\n",
      "No write directory provided\n",
      "r2scan_3c_opt_freq.xyz\n",
      "No write directory provided\n",
      "IF I HAD ONE\n",
      "No write directory provided\n",
      "crest_best.xyz\n",
      "No write directory provided\n",
      "r2scan_3c_opt_freq.xyz\n",
      "No write directory provided\n",
      "IF I HAD ONE\n",
      "No write directory provided\n",
      "crest_best.xyz\n",
      "No write directory provided\n",
      "r2scan_3c_opt_freq.xyz\n",
      "No write directory provided\n",
      "Error copying file: [Errno 2] No such file or directory: '/gpfs/home/gdb20/code/mol-maker/data/kimberley/CCTEST/crest_best.xyz'\n",
      "Error copying file: [Errno 2] No such file or directory: '/gpfs/home/gdb20/code/mol-maker/data/kimberley/CCTEST/r2scan_3c_opt_freq.xyz'\n",
      "Error copying file: [Errno 2] No such file or directory: '/gpfs/home/gdb20/code/mol-maker/data/kimberley/CCTEST/crest_best.xyz'\n",
      "Error copying file: [Errno 2] No such file or directory: '/gpfs/home/gdb20/code/mol-maker/data/kimberley/CCTEST/r2scan_3c_opt_freq.xyz'\n",
      "Error copying file: [Errno 2] No such file or directory: '/gpfs/home/gdb20/code/mol-maker/data/kimberley/CCTEST/crest_best.xyz'\n",
      "Error copying file: [Errno 2] No such file or directory: '/gpfs/home/gdb20/code/mol-maker/data/kimberley/CCTEST/r2scan_3c_opt_freq.xyz'\n",
      "Error copying file: [Errno 2] No such file or directory: '/gpfs/home/gdb20/code/mol-maker/data/kimberley/CCTEST/crest_best.xyz'\n",
      "Error copying file: [Errno 2] No such file or directory: '/gpfs/home/gdb20/code/mol-maker/data/kimberley/CCTEST/r2scan_3c_opt_freq.xyz'\n",
      "Error copying file: [Errno 2] No such file or directory: '/gpfs/home/gdb20/code/mol-maker/data/kimberley/CCTEST/crest_best.xyz'\n",
      "Error copying file: [Errno 2] No such file or directory: '/gpfs/home/gdb20/code/mol-maker/data/kimberley/CCTEST/r2scan_3c_opt_freq.xyz'\n",
      "Error copying file: [Errno 2] No such file or directory: '/gpfs/home/gdb20/code/mol-maker/data/kimberley/CCTEST/crest_best.xyz'\n",
      "Error copying file: [Errno 2] No such file or directory: '/gpfs/home/gdb20/code/mol-maker/data/kimberley/CCTEST/r2scan_3c_opt_freq.xyz'\n",
      "editing batchfile\n",
      "creating script for run\n",
      "writing file to /gpfs/home/gdb20/code/batch-manager/notebooks/test/\n"
     ]
    }
   ],
   "source": [
    "root_dir = '/gpfs/home/gdb20/code/batch-manager/notebooks/test/'\n",
    "run_configs = {}\n",
    "input_combi.do_everything(\n",
    "    root_dir,\n",
    "    run_configs,\n",
    "    [global_configs,cc_molecules,cc_method],\n",
    ")\n",
    "#bug where this crashes if we don't use directory divisions for one of these\n",
    "#fix leading underscores"
   ]
  },
  {
   "cell_type": "code",
   "execution_count": null,
   "id": "6ae35090-42bf-4efa-9cf3-6a7eed08edde",
   "metadata": {},
   "outputs": [],
   "source": []
  }
 ],
 "metadata": {
  "kernelspec": {
   "display_name": "Python 3 (ipykernel)",
   "language": "python",
   "name": "python3"
  },
  "language_info": {
   "codemirror_mode": {
    "name": "ipython",
    "version": 3
   },
   "file_extension": ".py",
   "mimetype": "text/x-python",
   "name": "python",
   "nbconvert_exporter": "python",
   "pygments_lexer": "ipython3",
   "version": "3.11.5"
  }
 },
 "nbformat": 4,
 "nbformat_minor": 5
}
