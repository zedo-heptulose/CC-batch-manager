{
 "cells": [
  {
   "cell_type": "code",
   "execution_count": 1,
   "id": "415bc043-0403-4869-a5f3-b65cf12ca630",
   "metadata": {},
   "outputs": [
    {
     "name": "stdout",
     "output_type": "stream",
     "text": [
      "/gpfs/home/gdb20/code/ORCA-batch-manager\n"
     ]
    }
   ],
   "source": [
    "cd .."
   ]
  },
  {
   "cell_type": "code",
   "execution_count": 3,
   "id": "e641f5e4-4509-45a1-9ef3-c01a5a738aba",
   "metadata": {},
   "outputs": [],
   "source": [
    "import input_files as nv\n",
    "crest_builder = nv.CRESTInputBuilder()\n",
    "import batch_runner "
   ]
  },
  {
   "cell_type": "code",
   "execution_count": 4,
   "id": "8c4a0807-0743-4ba0-91d0-decf777e57dc",
   "metadata": {},
   "outputs": [
    {
     "name": "stdout",
     "output_type": "stream",
     "text": [
      "making directory: ./temp/h2o2_crest/\n",
      "xyz source file: ./temp/h2o2.xyz\n",
      "xyz destination file: ./temp/h2o2_crest/h2o2.xyz\n",
      "writing input, if applicable\n",
      "writing shell script.\n",
      "making directory: ./temp/oh_radical_crest/\n",
      "xyz source file: ./temp/oh.xyz\n",
      "xyz destination file: ./temp/oh_radical_crest/oh.xyz\n",
      "writing input, if applicable\n",
      "writing shell script.\n"
     ]
    }
   ],
   "source": [
    "crest_job = crest_builder\\\n",
    ".change_params({'xyz_directory':'./temp/',\n",
    "               'write_directory':'./temp/h2o2_crest/',\n",
    "               'xyz_file':'h2o2.xyz',\n",
    "               'job_name':'h2o2_crest',\n",
    "               'quick' : False,\n",
    "               'reopt' : False,\n",
    "               'solvent' : 'water'})\\\n",
    ".build()\n",
    "crest_job.debug = True\n",
    "crest_job.create_directory()\n",
    "\n",
    "crest_job = crest_builder\\\n",
    ".change_params({'xyz_directory':'./temp/',\n",
    "               'write_directory':'./temp/oh_radical_crest/',\n",
    "               'xyz_file':'oh.xyz',\n",
    "               'job_name':'oh_radical_crest',\n",
    "               'quick' : False,\n",
    "               'reopt' : False,\n",
    "               'solvent' : 'water',\n",
    "               'spin_multiplicity' : 2})\\\n",
    ".build()\n",
    "crest_job.debug = True\n",
    "crest_job.create_directory()"
   ]
  },
  {
   "cell_type": "code",
   "execution_count": 4,
   "id": "44099719-6dc9-4d61-92d0-57ffc9b94dc9",
   "metadata": {},
   "outputs": [],
   "source": [
    "br = batch_runner.BatchRunner()\n",
    "br.debug = True\n",
    "br.scratch_dir = '/gpfs/home/gdb20/code/ORCA-batch-manager/temp/'\n",
    "br.batchfile = 'batchfile.csv'\n",
    "br.MainLoop()"
   ]
  },
  {
   "cell_type": "code",
   "execution_count": 5,
   "id": "2480c07d-c9b7-4f7f-8ff6-1281d24f4185",
   "metadata": {},
   "outputs": [],
   "source": []
  },
  {
   "cell_type": "code",
   "execution_count": 6,
   "id": "e8fa2775-78ff-4de1-98e7-71a1816803c5",
   "metadata": {},
   "outputs": [],
   "source": []
  },
  {
   "cell_type": "code",
   "execution_count": 7,
   "id": "934ab4da-0d08-4c04-98a3-b19e7a1fbded",
   "metadata": {},
   "outputs": [],
   "source": []
  },
  {
   "cell_type": "code",
   "execution_count": 9,
   "id": "6600ea3e-5587-435d-801f-c5331309cee9",
   "metadata": {},
   "outputs": [],
   "source": []
  },
  {
   "cell_type": "code",
   "execution_count": 10,
   "id": "3f657fde-172f-4f23-9b92-ed710839d795",
   "metadata": {},
   "outputs": [],
   "source": []
  },
  {
   "cell_type": "code",
   "execution_count": 11,
   "id": "a53e68db-a82d-468d-be09-ba51eee88abd",
   "metadata": {},
   "outputs": [],
   "source": []
  },
  {
   "cell_type": "code",
   "execution_count": 11,
   "id": "1d784d5b-40b4-48bf-be3f-84963ea440aa",
   "metadata": {},
   "outputs": [],
   "source": [
    "fr"
   ]
  },
  {
   "cell_type": "code",
   "execution_count": null,
   "id": "e8db9ce5-7b0e-4092-a1c9-52ccb3e2f62e",
   "metadata": {},
   "outputs": [],
   "source": []
  },
  {
   "cell_type": "code",
   "execution_count": null,
   "id": "56202172-8f63-4741-8b15-5f7bad75a367",
   "metadata": {},
   "outputs": [],
   "source": []
  },
  {
   "cell_type": "code",
   "execution_count": null,
   "id": "e3c91f6d-93be-40b3-b895-8a4cc978c438",
   "metadata": {},
   "outputs": [],
   "source": []
  },
  {
   "cell_type": "code",
   "execution_count": null,
   "id": "07617bc9-ecb5-48c3-874e-c6ddc0da7e66",
   "metadata": {},
   "outputs": [],
   "source": []
  }
 ],
 "metadata": {
  "kernelspec": {
   "display_name": "Python 3 (ipykernel)",
   "language": "python",
   "name": "python3"
  },
  "language_info": {
   "codemirror_mode": {
    "name": "ipython",
    "version": 3
   },
   "file_extension": ".py",
   "mimetype": "text/x-python",
   "name": "python",
   "nbconvert_exporter": "python",
   "pygments_lexer": "ipython3",
   "version": "3.11.5"
  }
 },
 "nbformat": 4,
 "nbformat_minor": 5
}
