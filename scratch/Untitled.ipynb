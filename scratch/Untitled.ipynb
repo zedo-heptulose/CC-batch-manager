{
 "cells": [
  {
   "cell_type": "code",
   "execution_count": 1,
   "id": "acf320f6-f754-4ab7-81c3-f9f425330f68",
   "metadata": {},
   "outputs": [
    {
     "name": "stdout",
     "output_type": "stream",
     "text": [
      "/gpfs/home/gdb20/code/ORCA-batch-manager\n"
     ]
    }
   ],
   "source": [
    "cd .."
   ]
  },
  {
   "cell_type": "code",
   "execution_count": 2,
   "id": "9e30a5cc-79a6-4f47-860d-391e9f0f484b",
   "metadata": {},
   "outputs": [],
   "source": [
    "import input_combi\n",
    "import helpers\n",
    "import input_files"
   ]
  },
  {
   "cell_type": "code",
   "execution_count": 3,
   "id": "ae587e75-c504-4c48-a970-65bbaa16f8af",
   "metadata": {},
   "outputs": [
    {
     "data": {
      "text/plain": [
       "['__builtins__',\n",
       " '__cached__',\n",
       " '__doc__',\n",
       " '__file__',\n",
       " '__loader__',\n",
       " '__name__',\n",
       " '__package__',\n",
       " '__spec__',\n",
       " 'helpers',\n",
       " 'input_files',\n",
       " 'iterate_inputs',\n",
       " 'itertools',\n",
       " 'os',\n",
       " 'write_input_array']"
      ]
     },
     "execution_count": 3,
     "metadata": {},
     "output_type": "execute_result"
    }
   ],
   "source": [
    "dir(input_combi)"
   ]
  },
  {
   "cell_type": "code",
   "execution_count": 4,
   "id": "5e6ae985-1bb6-48d7-93b7-94ce88f675e2",
   "metadata": {},
   "outputs": [],
   "source": [
    "global_configs = {\n",
    "        'write_directory' : 'temp',\n",
    "        'xyz_directory' : 'temp',\n",
    "        'charge' : 0\n",
    "}\n",
    "molecules = {'h2o2': {\n",
    "                'xyz_file' : 'h2o2.xyz',\n",
    "                'spin_multiplicity' : 1,\n",
    "                },\n",
    "             'oh-radical': {\n",
    "                'xyz_file' : 'oh.xyz',\n",
    "                'spin_multiplicity' : 2\n",
    "                  },\n",
    "            }\n",
    "\n",
    "crest_settings = {'crest' : {\n",
    "                    'program' : 'CREST',\n",
    "                    'functional' : 'gfn2',\n",
    "                    'quick' : False,\n",
    "                    'reopt' : False,\n",
    "                    'cluster' : True,\n",
    "                    }\n",
    "                 }\n",
    "\n",
    "gaussian_settings = {\n",
    "            'gau' : {\n",
    "                'program' : 'Gaussian',\n",
    "                '__coords_from__': 'crest', #this depends_on should write dependencies\n",
    "                '__coords_file__': 'crest_best.xyz',\n",
    "                },                      #where the whole name up to and including this phrase is included\n",
    "           }\n",
    "\n",
    "\n",
    "functionals = {'b3lyp' : {\n",
    "                'functional' : 'b3lyp'\n",
    "                },\n",
    "            'm06-2x' : {\n",
    "                'functional' : 'M062X' #ANOTHER flag for being the point at which directories are divided\n",
    "                },\n",
    "            'm08-hx' : {\n",
    "                'functional' : 'M08HX'\n",
    "                },\n",
    "            'pbeo' : {\n",
    "                'functional' : 'PBEPBE'\n",
    "                },\n",
    "            }\n",
    "basis_sets = {'6-31+Gdp' : {\n",
    "                'basis' : '6-31+G*'\n",
    "                },\n",
    "              '6-311+Gdp' : {\n",
    "                'basis' : '6-311+G*'\n",
    "                },\n",
    "              '6-31++Gdp' : {\n",
    "                'basis' : '6-31++G*'\n",
    "                },\n",
    "              '6-311++Gdp' : {\n",
    "                'basis' : '6-311++G*'\n",
    "                },\n",
    "             }\n",
    "solvents = {'gas' : {\n",
    "                'solvent' : None\n",
    "                },\n",
    "            'water' : {\n",
    "                'solvent' : 'water'\n",
    "                },\n",
    "           }\n",
    "\n",
    "gaussian_inputs = input_combi.iterate_inputs([molecules,solvents,gaussian_settings,functionals,basis_sets])\n",
    "crest_inputs = input_combi.iterate_inputs([molecules,solvents,crest_settings])"
   ]
  },
  {
   "cell_type": "code",
   "execution_count": 5,
   "id": "9530c2cb-cbe3-4179-b1ed-b07ef4dc6a2b",
   "metadata": {},
   "outputs": [],
   "source": [
    "input_combi.write_input_array(gaussian_inputs,global_configs)"
   ]
  },
  {
   "cell_type": "code",
   "execution_count": 6,
   "id": "14598077-d4df-401f-bbd7-9a25628063ed",
   "metadata": {},
   "outputs": [],
   "source": [
    "input_combi.write_input_array(crest_inputs,global_configs)"
   ]
  },
  {
   "cell_type": "code",
   "execution_count": 16,
   "id": "c1156d5e-f1e4-4587-8aa6-caff06260253",
   "metadata": {},
   "outputs": [
    {
     "data": {
      "text/plain": [
       "{'h2o2_crest': {'write_directory': 'temp',\n",
       "  'xyz_directory': 'temp',\n",
       "  'charge': 0,\n",
       "  'xyz_file': 'h2o2.xyz',\n",
       "  'spin_multiplicity': 1,\n",
       "  'program': 'CREST',\n",
       "  'functional': 'gfn2',\n",
       "  'quick': False,\n",
       "  'reopt': False,\n",
       "  'cluster': True,\n",
       "  '__stopiter__': True,\n",
       "  'job_basename': 'h2o2_crest'},\n",
       " 'oh-radical_crest': {'write_directory': 'temp',\n",
       "  'xyz_directory': 'temp',\n",
       "  'charge': 0,\n",
       "  'xyz_file': 'oh.xyz',\n",
       "  'spin_multiplicity': 2,\n",
       "  'program': 'CREST',\n",
       "  'functional': 'gfn2',\n",
       "  'quick': False,\n",
       "  'reopt': False,\n",
       "  'cluster': True,\n",
       "  '__stopiter__': True,\n",
       "  'job_basename': 'oh-radical_crest'}}"
      ]
     },
     "execution_count": 16,
     "metadata": {},
     "output_type": "execute_result"
    }
   ],
   "source": [
    "crest_inputs"
   ]
  },
  {
   "cell_type": "code",
   "execution_count": null,
   "id": "da98c181-78b9-4c07-aa9d-c1ec03c81904",
   "metadata": {},
   "outputs": [],
   "source": []
  }
 ],
 "metadata": {
  "kernelspec": {
   "display_name": "Python 3 (ipykernel)",
   "language": "python",
   "name": "python3"
  },
  "language_info": {
   "codemirror_mode": {
    "name": "ipython",
    "version": 3
   },
   "file_extension": ".py",
   "mimetype": "text/x-python",
   "name": "python",
   "nbconvert_exporter": "python",
   "pygments_lexer": "ipython3",
   "version": "3.11.5"
  }
 },
 "nbformat": 4,
 "nbformat_minor": 5
}
