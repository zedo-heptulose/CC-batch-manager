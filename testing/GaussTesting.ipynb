{
 "cells": [
  {
   "cell_type": "code",
   "execution_count": 1,
   "id": "b5024d95-b0c2-4f1d-8ad3-6ebdab38a4fd",
   "metadata": {},
   "outputs": [
    {
     "name": "stdout",
     "output_type": "stream",
     "text": [
      "/gpfs/home/gdb20/code/batch-manager\n"
     ]
    }
   ],
   "source": [
    "cd .."
   ]
  },
  {
   "cell_type": "code",
   "execution_count": 2,
   "id": "cf122093-921e-4f72-a89c-436526569306",
   "metadata": {},
   "outputs": [],
   "source": [
    "import input_files as nv"
   ]
  },
  {
   "cell_type": "code",
   "execution_count": 3,
   "id": "6b818ed5-1469-4ec4-9307-71ea2cb29947",
   "metadata": {},
   "outputs": [
    {
     "name": "stdout",
     "output_type": "stream",
     "text": [
      "./config/\n",
      "gaussian_config.json\n"
     ]
    }
   ],
   "source": [
    "print(nv.CONFIGPATH)\n",
    "print(nv.GAUSSCONFIG)\n",
    "xtb = nv.xTBInputBuilder()"
   ]
  },
  {
   "cell_type": "code",
   "execution_count": 4,
   "id": "56c3f236-a4e2-426b-8f27-ab7fb45531db",
   "metadata": {
    "scrolled": true
   },
   "outputs": [],
   "source": [
    "xtbtest = xtb\\\n",
    ".change_params({'xyz_directory':'./scratch/',\n",
    "               'write_directory':'/gpfs/home/gdb20/code/batch-manager/scratch/test/',\n",
    "               'job_basename':'xtbtest'})\\\n",
    ".build()\n",
    "xtbtest.debug = True"
   ]
  },
  {
   "cell_type": "code",
   "execution_count": 5,
   "id": "09caf377-3bb0-4ac2-8125-656399bdf726",
   "metadata": {},
   "outputs": [
    {
     "name": "stdout",
     "output_type": "stream",
     "text": [
      "making directory: /gpfs/home/gdb20/code/batch-manager/scratch/test/\n",
      "xyz source file: ./scratch/test.xyz\n",
      "xyz destination file: /gpfs/home/gdb20/code/batch-manager/scratch/test/test.xyz\n",
      "writing input, if applicable\n",
      "writing shell script.\n"
     ]
    }
   ],
   "source": [
    "xtbtest.create_directory()"
   ]
  },
  {
   "cell_type": "code",
   "execution_count": 6,
   "id": "902f5f3d-43b5-41ad-99e8-bbb2b2cd1a72",
   "metadata": {},
   "outputs": [],
   "source": [
    "orc_test.write_file()"
   ]
  },
  {
   "cell_type": "code",
   "execution_count": 7,
   "id": "9afbd150-8c51-4dc9-86de-77a24ec807b3",
   "metadata": {},
   "outputs": [],
   "source": [
    "gauss_builder = nv.GaussianInputBuilder()\n",
    "gauss_builder\\\n",
    ".change_params({'xyz_directory':'./scratch/',\n",
    "               'write_directory':'/gpfs/home/gdb20/code/input_macros/scratch/test/',\n",
    "               'job_name':'test'})\\\n",
    ".build()\\\n",
    ".create_directory()"
   ]
  },
  {
   "cell_type": "code",
   "execution_count": 8,
   "id": "16855c9f-a408-4f9d-b91d-e86b9736c8f2",
   "metadata": {},
   "outputs": [
    {
     "name": "stdout",
     "output_type": "stream",
     "text": [
      "%nprocshared=1\n",
      "\n",
      "setting nprocs: 1\n",
      "%mem=2gb\n",
      "\n",
      "setting mem_per_cpu: -1\n",
      "%chk=/gpfs/home/gdb20/code/input_macros/scratch/test/test.gjf.chk\n",
      "\n",
      "#opt freq ub3lyp/6-31g(d,p)\n",
      "\n",
      "reading keywords: {keys}\n",
      "\n",
      "\n",
      "blank line found after keywords, looking for title\n",
      "super secret special scripts shaped sthis submission sfile\n",
      "\n",
      "adding line to title. Title so far: super secret special scripts shaped sthis submission sfile\n",
      "\n",
      "\n",
      "\n",
      "blank line after title, no longer reading title\n",
      "0 1\n",
      "\n",
      "reading charge and multiplicity. Charge: 0 Multiplicity: 1\n",
      "Ne 0.0000 0.0000 0.0000\n",
      "\n",
      "\n",
      "\n",
      "\n",
      "\n",
      "\n",
      "\n"
     ]
    }
   ],
   "source": [
    "gauss_test = nv.GaussianInput()\n",
    "gauss_test.load_file('test.gjf','./scratch/test/')"
   ]
  },
  {
   "cell_type": "code",
   "execution_count": 9,
   "id": "a5d42905-dfcc-420e-8e0c-aa1a66e77a7c",
   "metadata": {},
   "outputs": [],
   "source": [
    "gauss_test.write_file()"
   ]
  },
  {
   "cell_type": "code",
   "execution_count": null,
   "id": "25005cf9-c957-418b-9583-91cc2fa84ebe",
   "metadata": {},
   "outputs": [],
   "source": []
  }
 ],
 "metadata": {
  "kernelspec": {
   "display_name": "Python 3 (ipykernel)",
   "language": "python",
   "name": "python3"
  },
  "language_info": {
   "codemirror_mode": {
    "name": "ipython",
    "version": 3
   },
   "file_extension": ".py",
   "mimetype": "text/x-python",
   "name": "python",
   "nbconvert_exporter": "python",
   "pygments_lexer": "ipython3",
   "version": "3.11.5"
  }
 },
 "nbformat": 4,
 "nbformat_minor": 5
}
