{
 "cells": [
  {
   "cell_type": "code",
   "execution_count": 1,
   "id": "1627a5b8-b222-4761-a4d0-0ca09d9c0051",
   "metadata": {},
   "outputs": [
    {
     "name": "stdout",
     "output_type": "stream",
     "text": [
      "/gpfs/home/gdb20/code/batch-manager\n"
     ]
    }
   ],
   "source": [
    "cd .."
   ]
  },
  {
   "cell_type": "code",
   "execution_count": 2,
   "id": "8f78e377-9058-4d5b-b380-4d5be92d84f5",
   "metadata": {},
   "outputs": [],
   "source": [
    "import input_files"
   ]
  },
  {
   "cell_type": "code",
   "execution_count": 3,
   "id": "aa60f295-5b7f-4aaa-aca8-efbdb763c6a9",
   "metadata": {},
   "outputs": [
    {
     "name": "stdout",
     "output_type": "stream",
     "text": [
      "/gpfs/home/gdb20/code/batch-manager/testing\n"
     ]
    }
   ],
   "source": [
    "cd testing"
   ]
  },
  {
   "cell_type": "code",
   "execution_count": 4,
   "id": "4d587a67-6622-4eba-be41-a892cb180284",
   "metadata": {},
   "outputs": [],
   "source": [
    "nics_input_builder = input_files.NICSPPInputBuilder()"
   ]
  },
  {
   "cell_type": "code",
   "execution_count": 5,
   "id": "f05a13c0-4dea-4f28-9e06-20f782c9c068",
   "metadata": {},
   "outputs": [],
   "source": [
    "nj = nics_input_builder.change_params({\n",
    "    'write_directory' : 'nics_test',\n",
    "    'xyz_directory' : '.',\n",
    "    'xyz_file' : 'big_core.xyz',\n",
    "    'job_basename' : 'big_core_NICS',\n",
    "}).build()"
   ]
  },
  {
   "cell_type": "code",
   "execution_count": 7,
   "id": "bf809b13-8c8a-47cc-81a8-bab5d4f14abc",
   "metadata": {},
   "outputs": [],
   "source": [
    "nj.create_directory()"
   ]
  },
  {
   "cell_type": "code",
   "execution_count": null,
   "id": "01c59b7b-2fc2-4e6f-a5ba-11560aa775a3",
   "metadata": {},
   "outputs": [],
   "source": []
  }
 ],
 "metadata": {
  "kernelspec": {
   "display_name": "Python 3 (ipykernel)",
   "language": "python",
   "name": "python3"
  },
  "language_info": {
   "codemirror_mode": {
    "name": "ipython",
    "version": 3
   },
   "file_extension": ".py",
   "mimetype": "text/x-python",
   "name": "python",
   "nbconvert_exporter": "python",
   "pygments_lexer": "ipython3",
   "version": "3.11.5"
  }
 },
 "nbformat": 4,
 "nbformat_minor": 5
}
