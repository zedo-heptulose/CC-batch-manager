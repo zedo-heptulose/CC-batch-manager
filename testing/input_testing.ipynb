{
 "cells": [
  {
   "cell_type": "code",
   "execution_count": 1,
   "id": "1b2f4fef-e34b-42a4-9026-9e78e54b52a0",
   "metadata": {},
   "outputs": [
    {
     "name": "stdout",
     "output_type": "stream",
     "text": [
      "/gpfs/home/gdb20/code/batch-manager\n"
     ]
    }
   ],
   "source": [
    "cd .."
   ]
  },
  {
   "cell_type": "code",
   "execution_count": 3,
   "id": "558b8afe-15b7-4c2c-b0e8-e0c1435861ac",
   "metadata": {},
   "outputs": [],
   "source": [
    "import input_files\n",
    "import job_harness"
   ]
  },
  {
   "cell_type": "code",
   "execution_count": null,
   "id": "5731129f-b127-4e9b-9e65-2e8f41b38aad",
   "metadata": {},
   "outputs": [],
   "source": []
  }
 ],
 "metadata": {
  "kernelspec": {
   "display_name": "Python 3 (ipykernel)",
   "language": "python",
   "name": "python3"
  },
  "language_info": {
   "codemirror_mode": {
    "name": "ipython",
    "version": 3
   },
   "file_extension": ".py",
   "mimetype": "text/x-python",
   "name": "python",
   "nbconvert_exporter": "python",
   "pygments_lexer": "ipython3",
   "version": "3.11.5"
  }
 },
 "nbformat": 4,
 "nbformat_minor": 5
}
