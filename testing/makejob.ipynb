{
 "cells": [
  {
   "cell_type": "code",
   "execution_count": 1,
   "id": "b7f7bf3d-b85c-4136-b099-37fa2cace204",
   "metadata": {},
   "outputs": [
    {
     "name": "stdout",
     "output_type": "stream",
     "text": [
      "/gpfs/home/gdb20/code/batch-manager\n"
     ]
    }
   ],
   "source": [
    "cd .."
   ]
  },
  {
   "cell_type": "code",
   "execution_count": 5,
   "id": "a981919a-72e4-4f70-abc1-554333b1aaa4",
   "metadata": {},
   "outputs": [],
   "source": [
    "import input_files\n",
    "import file_parser"
   ]
  },
  {
   "cell_type": "code",
   "execution_count": 5,
   "id": "d88eaf84-67a2-48fc-ab29-e1d4722ee957",
   "metadata": {},
   "outputs": [
    {
     "name": "stdout",
     "output_type": "stream",
     "text": [
      "making directory: /gpfs/home/gdb20/computations/mike/bigcore/\n",
      "xyz source file: ../mol-maker/data/mike/mike_molecules/tbucore.xyz\n",
      "xyz destination file: /gpfs/home/gdb20/computations/mike/bigcore/tbucore.xyz\n",
      "writing input, if applicable\n",
      "writing shell script.\n"
     ]
    }
   ],
   "source": [
    "crestbuild = input_files.CRESTInputBuilder()\n",
    "crestjob = crestbuild\\\n",
    ".change_params({'xyz_directory':'../mol-maker/data/mike/mike_molecules/',\n",
    "                'xyz_file' : 'tbucore.xyz',\n",
    "                'write_directory': '/gpfs/home/gdb20/computations/mike/bigcore/',\n",
    "               'job_basename':'tbucore_crest',\n",
    "               'solvent' : 'thf',\n",
    "               'quick' : 'mquick',\n",
    "               'functional' : 'gfnff'})\\\n",
    ".build()\n",
    "crestjob.debug = True\n",
    "crestjob.create_directory()"
   ]
  },
  {
   "cell_type": "code",
   "execution_count": 8,
   "id": "200edad5-8ff3-4a21-8d6b-b0685219ecef",
   "metadata": {},
   "outputs": [],
   "source": [
    "xtbbuild = input_files.xTBInputBuilder()\n",
    "xtbjob = xtbbuild\\\n",
    ".change_params({\n",
    "    'xyz_directory' :'/gpfs/home/gdb20/computations/mike/bigcore',\n",
    "    'xyz_file' : 'crest_best.xyz',\n",
    "    'write_directory' : '/gpfs/home/gdb20/computations/mike/bigcore_xtb',\n",
    "    'job_basename' : 'bigcore_xtb',\n",
    "    'solvent' : 'thf',\n",
    "})\\\n",
    ".build()\n",
    "xtbjob.create_directory()"
   ]
  },
  {
   "cell_type": "code",
   "execution_count": 4,
   "id": "7ff73b0a-255b-45aa-8120-cae51b0c5697",
   "metadata": {},
   "outputs": [
    {
     "name": "stdout",
     "output_type": "stream",
     "text": [
      "making directory: /gpfs/home/gdb20/computations/mike/bigcore_orca_thf/\n",
      "xyz source file: /gpfs/home/gdb20/computations/mike/bigcore_xtb/xtbopt.xyz\n",
      "xyz destination file: /gpfs/home/gdb20/computations/mike/bigcore_orca_thf/xtbopt.xyz\n",
      "writing input, if applicable\n",
      "writing shell script.\n"
     ]
    }
   ],
   "source": [
    "orcabuild = input_files.ORCAInputBuilder()\n",
    "orcajob = orcabuild\\\n",
    ".change_params({'xyz_directory' : '/gpfs/home/gdb20/computations/mike/bigcore_xtb/',\n",
    "                'xyz_file' : 'xtbopt.xyz',\n",
    "                'write_directory': '/gpfs/home/gdb20/computations/mike/bigcore_orca_thf/',\n",
    "                'job_basename' : 'tbucore_r2scan3c_sp',\n",
    "                'solvent' : 'thf',\n",
    "                'functional' : 'r2scan-3c',\n",
    "                'natural_orbitals' : True,\n",
    "                'broken_symmetry' : True,\n",
    "                'spin_multiplicity' : 3,\n",
    "                'run_type' : None,\n",
    "                'num_cores': 12,\n",
    "                'runtime' : '0-01:00:00',\n",
    "               })\\\n",
    ".build()\n",
    "orcajob.debug=True\n",
    "orcajob.create_directory()"
   ]
  },
  {
   "cell_type": "code",
   "execution_count": 7,
   "id": "ed5c27c2-8bf3-4ea7-81ba-713a494b1efa",
   "metadata": {},
   "outputs": [
    {
     "data": {
      "text/plain": [
       "{'<S**2>_T': 2.0484,\n",
       " '<S**2>_BS': None,\n",
       " 'E_high_spin_au': -3081.901167,\n",
       " 'E_broken_sym_au': -3081.955289,\n",
       " 'SP_energy_au': -3082.012390689906,\n",
       " 'completion_success': True,\n",
       " 'enthalpy_au': None,\n",
       " 'free_energy_au': None,\n",
       " 'gibbs_minus_E_el_au': None,\n",
       " 'geometry_success': False,\n",
       " 'SCF_fail': False,\n",
       " 'imaginary_frequency': False,\n",
       " 'first_excite_E_au': None}"
      ]
     },
     "execution_count": 7,
     "metadata": {},
     "output_type": "execute_result"
    }
   ],
   "source": [
    "file_parser.extract_data( '/gpfs/home/gdb20/computations/mike/bigcore_orca_thf/tbucore_r2scan3c_sp.out','/gpfs/home/gdb20/code/batch-manager/rules/orca_rules.dat')"
   ]
  },
  {
   "cell_type": "code",
   "execution_count": null,
   "id": "68428747-4ef0-483f-9cef-0825cdd8f437",
   "metadata": {},
   "outputs": [],
   "source": []
  }
 ],
 "metadata": {
  "kernelspec": {
   "display_name": "Python 3 (ipykernel)",
   "language": "python",
   "name": "python3"
  },
  "language_info": {
   "codemirror_mode": {
    "name": "ipython",
    "version": 3
   },
   "file_extension": ".py",
   "mimetype": "text/x-python",
   "name": "python",
   "nbconvert_exporter": "python",
   "pygments_lexer": "ipython3",
   "version": "3.11.5"
  }
 },
 "nbformat": 4,
 "nbformat_minor": 5
}
