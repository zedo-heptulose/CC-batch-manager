{
 "cells": [
  {
   "cell_type": "code",
   "execution_count": 1,
   "id": "487f4504-72a9-491d-a3ee-3ddd68da1a07",
   "metadata": {
    "scrolled": true
   },
   "outputs": [
    {
     "name": "stdout",
     "output_type": "stream",
     "text": [
      "/gpfs/home/gdb20/code/batch-manager\n"
     ]
    }
   ],
   "source": [
    "cd .."
   ]
  },
  {
   "cell_type": "code",
   "execution_count": 2,
   "id": "495c12ec-6ab8-4e9f-9572-66b61c715cc9",
   "metadata": {},
   "outputs": [],
   "source": [
    "import postprocessing\n",
    "import file_parser"
   ]
  },
  {
   "cell_type": "code",
   "execution_count": 3,
   "id": "5573fbe2-523d-449c-aa30-14aefd5c2a26",
   "metadata": {},
   "outputs": [],
   "source": [
    "b3lyppath = 'testing/oby_singlet_uks_cam_b3lyp_631gdp_brsym.out'\n",
    "rules = 'rules/orca_rules.dat'"
   ]
  },
  {
   "cell_type": "code",
   "execution_count": 4,
   "id": "e1a28640-1ba4-4e46-aca2-f3d461968973",
   "metadata": {},
   "outputs": [],
   "source": [
    "r2scan3cpath = 'testing/oby_singlet_opt_uks_r2scan_3c_brsym.out'"
   ]
  },
  {
   "cell_type": "code",
   "execution_count": 5,
   "id": "673b9050-d2c9-4999-9aea-1f4e3611e829",
   "metadata": {},
   "outputs": [
    {
     "name": "stdout",
     "output_type": "stream",
     "text": [
      "43\n",
      "-1\n",
      "warning: last hono 1.000, check for edge case\n",
      "0\n",
      "-1\n",
      "warning in run with\n",
      "directory: testing\n",
      "basename: oby_singlet_opt_uks_r2scan_3c_brsym\n",
      "ORCA JOB\n",
      "Could not parse UNO occs\n"
     ]
    }
   ],
   "source": [
    "dirname = '/gpfs/research/alabuginlab/gage/michael/quick/_0_1_nomy2/cam-b3lyp_6-31Gdp_opt_freq'\n",
    "basename = 'cam-b3lyp_6-31Gdp_opt_freq'\n",
    "opp = postprocessing.OrcaPostProcessor(dirname,basename)\n",
    "r2opp = postprocessing.OrcaPostProcessor(\n",
    "  'testing',  'oby_singlet_opt_uks_r2scan_3c_brsym'\n",
    ")\n",
    "opp.pp_routine()\n",
    "r2opp.pp_routine()"
   ]
  },
  {
   "cell_type": "code",
   "execution_count": 6,
   "id": "52fbb229-bcd2-4e70-9a4f-0c889c72009d",
   "metadata": {},
   "outputs": [
    {
     "data": {
      "text/plain": [
       "{'<S^2>_HS': 2.2254,\n",
       " '<S^2>_BS': 1.2392,\n",
       " 'E_high_spin_au': -1383.057366,\n",
       " 'E_broken_sym_au': -1383.063942,\n",
       " 'E_el_au': -1383.068094941696,\n",
       " 'opt_done': True,\n",
       " 'H_au': -1382.60141009,\n",
       " 'TS_au': 0.07732924,\n",
       " 'G_au': -1382.67873933,\n",
       " 'G_minus_E_el_au': 0.38935561,\n",
       " 'success': True,\n",
       " 'scf_fail': False,\n",
       " 'imaginary_frequencies': False,\n",
       " 'diradical_character_yamaguchi': 1.0,\n",
       " 'diradical_character_naive': 1.0,\n",
       " 'tetraradical_character_naive': 0.02405,\n",
       " 'Delta_E_st_spin_corrected_kcal_mol-1': 9.311477972007381,\n",
       " 'Delta_E_st_spin_corrected_kj_mol-1': 38.95239789086753,\n",
       " 'Delta_E_st_spin_corrected_eV': 0.4037842662889129,\n",
       " 'Delta_E_st_spin_corrected_au': 0.014839008720330489,\n",
       " 'E_singlet_d_spin_corrected_au': -1383.0722050087204,\n",
       " 'E_triplet_d_corrected_au': -1383.057366}"
      ]
     },
     "execution_count": 6,
     "metadata": {},
     "output_type": "execute_result"
    }
   ],
   "source": [
    "opp.data"
   ]
  },
  {
   "cell_type": "code",
   "execution_count": 7,
   "id": "81593dd7-7040-476a-94e7-5c05b4b3502d",
   "metadata": {},
   "outputs": [
    {
     "data": {
      "text/plain": [
       "{'<S^2>_HS': 2.0766,\n",
       " '<S^2>_BS': 1.0828,\n",
       " 'E_high_spin_au': -2781.367703,\n",
       " 'E_broken_sym_au': -2781.367845,\n",
       " 'E_dispersion_au': -0.08133992,\n",
       " 'E_gCP_au': 0.043427203,\n",
       " 'E_el_au': -2781.405758480251,\n",
       " 'opt_done': True,\n",
       " 'success': True,\n",
       " 'scf_fail': False,\n",
       " 'imaginary_frequencies': False,\n",
       " 'Delta_E_st_spin_corrected_kcal_mol-1': 0.18618982030758652,\n",
       " 'Delta_E_st_spin_corrected_kj_mol-1': 0.7788817184181906,\n",
       " 'Delta_E_st_spin_corrected_eV': 0.008073962072334242,\n",
       " 'Delta_E_st_spin_corrected_au': 0.00029671684511169166,\n",
       " 'E_singlet_d_spin_corrected_au': -2781.405912433845,\n",
       " 'E_triplet_d_corrected_au': -2781.405615717}"
      ]
     },
     "execution_count": 7,
     "metadata": {},
     "output_type": "execute_result"
    }
   ],
   "source": [
    "r2opp.data"
   ]
  },
  {
   "cell_type": "code",
   "execution_count": null,
   "id": "87eb54c6-8f71-4a20-87b4-7644f1fc039c",
   "metadata": {},
   "outputs": [],
   "source": []
  },
  {
   "cell_type": "code",
   "execution_count": null,
   "id": "57a1636d-edba-41bc-9ba5-f81e1e865832",
   "metadata": {},
   "outputs": [],
   "source": []
  },
  {
   "cell_type": "code",
   "execution_count": null,
   "id": "35cf00b9-6567-40ad-b5cd-ab635baab91f",
   "metadata": {},
   "outputs": [],
   "source": []
  },
  {
   "cell_type": "code",
   "execution_count": null,
   "id": "26584e59-ace5-4034-8606-6fa2ce1bb096",
   "metadata": {},
   "outputs": [],
   "source": []
  },
  {
   "cell_type": "code",
   "execution_count": null,
   "id": "ca9e412e-76bf-4f1e-b76e-c307f81e20bc",
   "metadata": {},
   "outputs": [],
   "source": []
  },
  {
   "cell_type": "code",
   "execution_count": null,
   "id": "e9a315e9-cff3-4553-bb07-ddadc6b57cb6",
   "metadata": {},
   "outputs": [],
   "source": []
  },
  {
   "cell_type": "code",
   "execution_count": null,
   "id": "5334a882-4891-4e51-bfcb-a671a6ed3633",
   "metadata": {},
   "outputs": [],
   "source": []
  }
 ],
 "metadata": {
  "kernelspec": {
   "display_name": "Python 3 (ipykernel)",
   "language": "python",
   "name": "python3"
  },
  "language_info": {
   "codemirror_mode": {
    "name": "ipython",
    "version": 3
   },
   "file_extension": ".py",
   "mimetype": "text/x-python",
   "name": "python",
   "nbconvert_exporter": "python",
   "pygments_lexer": "ipython3",
   "version": "3.11.5"
  }
 },
 "nbformat": 4,
 "nbformat_minor": 5
}
